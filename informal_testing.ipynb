{
 "cells": [
  {
   "cell_type": "code",
   "execution_count": 4,
   "id": "b5eaa296",
   "metadata": {},
   "outputs": [],
   "source": [
    "# First we import the necessary libraries\n",
    "import sys\n",
    "import pygcdl\n",
    "import geopandas as gpd\n",
    "import os\n",
    "import pandas as pd\n",
    "import numpy as np\n",
    "from pathlib import Path"
   ]
  },
  {
   "cell_type": "code",
   "execution_count": 5,
   "id": "b666a5db",
   "metadata": {},
   "outputs": [],
   "source": [
    "# Create the pygcdl object\n",
    "pygcdl_obj = pygcdl.PyGeoCDL()"
   ]
  },
  {
   "cell_type": "code",
   "execution_count": 6,
   "id": "92e67ca6",
   "metadata": {},
   "outputs": [
    {
     "name": "stdout",
     "output_type": "stream",
     "text": [
      "{'DaymetV4': 'Daymet Version 4', 'GTOPO30': 'Global 30 Arc-Second Elevation', 'MODIS_NDVI': 'MODIS NDVI Data, Smoothed and Gap-filled, for the Conterminous US: 2000-2015', 'NASS_CDL': 'NASS Cropland Data Layer', 'NLCD': 'National Land Cover Database', 'PRISM': 'PRISM', 'RAPV3': 'Rangeland Analysis Platform Version 3', 'SMAP-HB1km': 'SMAP HydroBlocks - 1 km', 'Soilgrids250mV2': 'SoilGrids — global gridded soil information', 'VIP': 'Vegetation Index and Phenology (VIP) Vegetation Indices Daily Global 0.05Deg CMG V004'}\n"
     ]
    }
   ],
   "source": [
    "print(pygcdl_obj.list_datasets())"
   ]
  },
  {
   "cell_type": "code",
   "execution_count": 7,
   "id": "3489ec24",
   "metadata": {},
   "outputs": [
    {
     "name": "stdout",
     "output_type": "stream",
     "text": [
      "{'name': 'PRISM', 'id': 'PRISM', 'url': 'https://prism.oregonstate.edu/', 'description': 'The PRISM Climate Group gathers climate observations from a wide range of monitoring networks, applies sophisticated quality control measures, and develops spatial climate datasets to reveal short- and long-term climate patterns. The resulting datasets incorporate a variety of modeling techniques and are available at multiple spatial/temporal resolutions, covering the period from 1895 to the present.', 'provider_name': 'PRISM Climate Group, Oregon State University', 'provider_url': 'https://prism.oregonstate.edu/', 'grid_size': 0.041666666666666664, 'grid_unit': 'degrees', 'vars': {'ppt': 'total precipitation (rain+melted snow)', 'tmean': 'mean temperature (mean of tmin and tmax)', 'tmin': 'minimum temperature', 'tmax': 'maximum temperature', 'tdmean': 'mean dew point temperature', 'vpdmin': 'minimum vapor pressure deficit', 'vpdmax': 'maximum vapor pressure deficit'}, 'temporal_resolution': {'year': '1 year', 'month': '1 month', 'day': '1 day'}, 'date_ranges': {'year': [1895, 2020], 'month': ['1895-01', '2021-01'], 'day': ['1981-01-01', '2021-01-31']}, 'crs': {'name': 'NAD83', 'epsg': 4269, 'proj4': '+proj=longlat +datum=NAD83 +no_defs +type=crs', 'wkt': 'GEOGCRS[\"NAD83\",DATUM[\"North American Datum 1983\",ELLIPSOID[\"GRS 1980\",6378137,298.257222101,LENGTHUNIT[\"metre\",1]]],PRIMEM[\"Greenwich\",0,ANGLEUNIT[\"degree\",0.0174532925199433]],CS[ellipsoidal,2],AXIS[\"geodetic latitude (Lat)\",north,ORDER[1],ANGLEUNIT[\"degree\",0.0174532925199433]],AXIS[\"geodetic longitude (Lon)\",east,ORDER[2],ANGLEUNIT[\"degree\",0.0174532925199433]],USAGE[SCOPE[\"Geodesy.\"],AREA[\"North America - onshore and offshore: Canada - Alberta; British Columbia; Manitoba; New Brunswick; Newfoundland and Labrador; Northwest Territories; Nova Scotia; Nunavut; Ontario; Prince Edward Island; Quebec; Saskatchewan; Yukon. Puerto Rico. United States (USA) - Alabama; Alaska; Arizona; Arkansas; California; Colorado; Connecticut; Delaware; Florida; Georgia; Hawaii; Idaho; Illinois; Indiana; Iowa; Kansas; Kentucky; Louisiana; Maine; Maryland; Massachusetts; Michigan; Minnesota; Mississippi; Missouri; Montana; Nebraska; Nevada; New Hampshire; New Jersey; New Mexico; New York; North Carolina; North Dakota; Ohio; Oklahoma; Oregon; Pennsylvania; Rhode Island; South Carolina; South Dakota; Tennessee; Texas; Utah; Vermont; Virginia; Washington; West Virginia; Wisconsin; Wyoming. US Virgin Islands. British Virgin Islands.\"],BBOX[14.92,167.65,86.45,-40.73]],ID[\"EPSG\",4269]]', 'datum': 'North American Datum 1983', 'is_geographic': True, 'is_projected': False}, 'notes': ''}\n"
     ]
    }
   ],
   "source": [
    "print(pygcdl_obj.get_dataset_info(\"PRISM\"))"
   ]
  },
  {
   "cell_type": "markdown",
   "id": "9d1de97e",
   "metadata": {},
   "source": [
    "We can upload a geometry as:\n",
    "- A geojson file\n",
    "- A shapefile\n",
    "- A zipfile containing shapefile files\n",
    "- A csv file (point data only?)\n",
    "- A geopandas dataframe\n",
    "\n",
    "The GCDL can only handle generate polygon subsets of single polygons, or multipolygon objects that contain only one polygon. If the user attempts to upload a geopandas dataframe that contains multiple polygons, then pygcdl calculates the ratio between the area of the union of polygons, and the area of the convex hull. If the union of polygons covers at least 80% of the area of the convex hull, then the pygcdl uploads the convex hull. Otherwise, pygcdl uploads each polygon individually, and returns a list of GUIDs.\n",
    "\n",
    "If the user uploads a file, the file contents are not checked. So, it is possible for a user to upload a multipolygon file without any errors or warnings, and then run into errors when trying to use the GUID for that upload to download a polygon subset."
   ]
  },
  {
   "cell_type": "code",
   "execution_count": 8,
   "id": "8a1536ae",
   "metadata": {},
   "outputs": [
    {
     "ename": "Exception",
     "evalue": "File not found",
     "output_type": "error",
     "traceback": [
      "\u001b[1;31m---------------------------------------------------------------------------\u001b[0m",
      "\u001b[1;31mException\u001b[0m                                 Traceback (most recent call last)",
      "Cell \u001b[1;32mIn[8], line 2\u001b[0m\n\u001b[0;32m      1\u001b[0m \u001b[38;5;66;03m# Upload a geojson\u001b[39;00m\n\u001b[1;32m----> 2\u001b[0m guid0 \u001b[38;5;241m=\u001b[39m \u001b[43mpygcdl_obj\u001b[49m\u001b[38;5;241;43m.\u001b[39;49m\u001b[43mupload_geometry\u001b[49m\u001b[43m(\u001b[49m\u001b[38;5;124;43m\"\u001b[39;49m\u001b[38;5;124;43msample_data/clay_aoi.geojson\u001b[39;49m\u001b[38;5;124;43m\"\u001b[39;49m\u001b[43m)\u001b[49m\n\u001b[0;32m      3\u001b[0m \u001b[38;5;28mprint\u001b[39m(guid0)\n",
      "File \u001b[1;32m~\\Documents\\pygcdl\\pygcdl.py:47\u001b[0m, in \u001b[0;36mPyGeoCDL.upload_geometry\u001b[1;34m(self, geom)\u001b[0m\n\u001b[0;32m     45\u001b[0m \u001b[38;5;28;01mif\u001b[39;00m \u001b[38;5;28misinstance\u001b[39m(geom, \u001b[38;5;28mstr\u001b[39m):\n\u001b[0;32m     46\u001b[0m     \u001b[38;5;28;01mif\u001b[39;00m \u001b[38;5;129;01mnot\u001b[39;00m Path(geom)\u001b[38;5;241m.\u001b[39mis_file():\n\u001b[1;32m---> 47\u001b[0m         \u001b[38;5;28;01mraise\u001b[39;00m \u001b[38;5;167;01mException\u001b[39;00m(\u001b[38;5;124m\"\u001b[39m\u001b[38;5;124mFile not found\u001b[39m\u001b[38;5;124m\"\u001b[39m)\n\u001b[0;32m     48\u001b[0m     file_ext \u001b[38;5;241m=\u001b[39m Path(geom)\u001b[38;5;241m.\u001b[39msuffix\n\u001b[0;32m     49\u001b[0m     \u001b[38;5;28;01mif\u001b[39;00m file_ext \u001b[38;5;241m==\u001b[39m \u001b[38;5;124m\"\u001b[39m\u001b[38;5;124m.geojson\u001b[39m\u001b[38;5;124m\"\u001b[39m \u001b[38;5;129;01mor\u001b[39;00m file_ext \u001b[38;5;241m==\u001b[39m \u001b[38;5;124m\"\u001b[39m\u001b[38;5;124m.zip\u001b[39m\u001b[38;5;124m\"\u001b[39m \\\n\u001b[0;32m     50\u001b[0m         \u001b[38;5;129;01mor\u001b[39;00m file_ext \u001b[38;5;241m==\u001b[39m \u001b[38;5;124m\"\u001b[39m\u001b[38;5;124m.csv\u001b[39m\u001b[38;5;124m\"\u001b[39m:\n",
      "\u001b[1;31mException\u001b[0m: File not found"
     ]
    }
   ],
   "source": [
    "# Upload a geojson\n",
    "guid0 = pygcdl_obj.upload_geometry(\"sample_data/clay_aoi.geojson\")\n",
    "print(guid0)"
   ]
  },
  {
   "cell_type": "code",
   "execution_count": null,
   "id": "05b4a169",
   "metadata": {},
   "outputs": [],
   "source": [
    "# Upload a shapefile, creates a zip file\n",
    "guid1 = pygcdl_obj.upload_geometry(\"sample_data/jer_bounds_sf.shp\")\n",
    "print(guid1)"
   ]
  },
  {
   "cell_type": "code",
   "execution_count": null,
   "id": "cf78a59a",
   "metadata": {},
   "outputs": [],
   "source": [
    "# Upload a zipfile, assumes contents are .shp + associated files\n",
    "guid2 = pygcdl_obj.upload_geometry(\"sample_data/four_points.zip\")\n",
    "print(guid2)"
   ]
  },
  {
   "cell_type": "code",
   "execution_count": null,
   "id": "77646fe7",
   "metadata": {},
   "outputs": [],
   "source": [
    "# Upload a CSV of points\n",
    "#guid3 = pygcdl_obj.upload_geometry(\"sample_data/...csv\")"
   ]
  },
  {
   "cell_type": "code",
   "execution_count": null,
   "id": "ff99dbf6",
   "metadata": {},
   "outputs": [],
   "source": [
    "# CAUSES ERROR: upload a .shp without associated files in same directory\n",
    "#guid4 = pygcdl_obj.upload_geometry(\"sample_data/lonely_shapefile.shp\")"
   ]
  },
  {
   "cell_type": "code",
   "execution_count": null,
   "id": "a1da7ef2",
   "metadata": {},
   "outputs": [],
   "source": [
    "dsvars = pd.DataFrame(\n",
    "    [[\"PRISM\", \"ppt\"], [\"MODIS_NDVI\", \"NDVI\"]], \n",
    "    columns=[\"dataset\", \"variable\"])\n",
    "print(dsvars)"
   ]
  },
  {
   "cell_type": "code",
   "execution_count": null,
   "id": "b970330c",
   "metadata": {},
   "outputs": [],
   "source": [
    "years = \"2008\"\n",
    "months = \"7:8\"\n",
    "grain_method = \"any\""
   ]
  },
  {
   "cell_type": "code",
   "execution_count": null,
   "id": "ade443ae",
   "metadata": {},
   "outputs": [],
   "source": [
    "spat_res = 1000 # in units of meters\n",
    "resample_method = \"bilinear\""
   ]
  },
  {
   "cell_type": "code",
   "execution_count": null,
   "id": "a13ee07e",
   "metadata": {},
   "outputs": [],
   "source": [
    "output_path = Path(\"output_test\")\n",
    "if not output_path.is_dir():\n",
    "    output_path.mkdir()"
   ]
  },
  {
   "cell_type": "code",
   "execution_count": null,
   "id": "b601d4bd",
   "metadata": {},
   "outputs": [],
   "source": [
    "output_files = pygcdl_obj.download_polygon_subset(\n",
    "    dsvars=dsvars, \n",
    "    years=years,\n",
    "    months=months,\n",
    "    grain_method=grain_method,\n",
    "    t_geom=guid1,\n",
    "    dsn=output_path,\n",
    ")"
   ]
  }
 ],
 "metadata": {
  "kernelspec": {
   "display_name": "Python 3 (ipykernel)",
   "language": "python",
   "name": "python3"
  },
  "language_info": {
   "codemirror_mode": {
    "name": "ipython",
    "version": 3
   },
   "file_extension": ".py",
   "mimetype": "text/x-python",
   "name": "python",
   "nbconvert_exporter": "python",
   "pygments_lexer": "ipython3",
   "version": "3.10.9"
  }
 },
 "nbformat": 4,
 "nbformat_minor": 5
}
