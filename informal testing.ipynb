{
 "cells": [
  {
   "cell_type": "code",
   "execution_count": 1,
   "id": "b666a5db",
   "metadata": {},
   "outputs": [],
   "source": [
    "# First we import the necessary libraries\n",
    "import sys\n",
    "import pygcdl\n",
    "import geopandas as gpd\n",
    "import os\n",
    "import pandas as pd\n",
    "import numpy as np\n",
    "from pathlib import Path\n",
    "\n",
    "# Create the pygcdl object\n",
    "pygcdl_obj = pygcdl.PyGeoCDL()"
   ]
  },
  {
   "cell_type": "code",
   "execution_count": 4,
   "id": "92e67ca6",
   "metadata": {},
   "outputs": [
    {
     "name": "stdout",
     "output_type": "stream",
     "text": [
      "{'DaymetV4': 'Daymet Version 4', 'GTOPO30': 'Global 30 Arc-Second Elevation', 'MODIS_NDVI': 'MODIS NDVI Data, Smoothed and Gap-filled, for the Conterminous US: 2000-2015', 'NASS_CDL': 'NASS Cropland Data Layer', 'NLCD': 'National Land Cover Database', 'PRISM': 'PRISM', 'RAPV3': 'Rangeland Analysis Platform Version 3', 'SMAP-HB1km': 'SMAP HydroBlocks - 1 km', 'Soilgrids250mV2': 'SoilGrids — global gridded soil information', 'VIP': 'Vegetation Index and Phenology (VIP) Vegetation Indices Daily Global 0.05Deg CMG V004'}\n"
     ]
    }
   ],
   "source": [
    "print(pygcdl_obj.list_datasets())"
   ]
  },
  {
   "cell_type": "code",
   "execution_count": 5,
   "id": "3489ec24",
   "metadata": {},
   "outputs": [
    {
     "name": "stdout",
     "output_type": "stream",
     "text": [
      "{'name': 'PRISM', 'id': 'PRISM', 'url': 'https://prism.oregonstate.edu/', 'description': 'The PRISM Climate Group gathers climate observations from a wide range of monitoring networks, applies sophisticated quality control measures, and develops spatial climate datasets to reveal short- and long-term climate patterns. The resulting datasets incorporate a variety of modeling techniques and are available at multiple spatial/temporal resolutions, covering the period from 1895 to the present.', 'provider_name': 'PRISM Climate Group, Oregon State University', 'provider_url': 'https://prism.oregonstate.edu/', 'grid_size': 0.041666666666666664, 'grid_unit': 'degrees', 'vars': {'ppt': 'total precipitation (rain+melted snow)', 'tmean': 'mean temperature (mean of tmin and tmax)', 'tmin': 'minimum temperature', 'tmax': 'maximum temperature', 'tdmean': 'mean dew point temperature', 'vpdmin': 'minimum vapor pressure deficit', 'vpdmax': 'maximum vapor pressure deficit'}, 'temporal_resolution': {'year': '1 year', 'month': '1 month', 'day': '1 day'}, 'date_ranges': {'year': [1895, 2020], 'month': ['1895-01', '2021-01'], 'day': ['1981-01-01', '2021-01-31']}, 'crs': {'name': 'NAD83', 'epsg': 4269, 'proj4': '+proj=longlat +datum=NAD83 +no_defs +type=crs', 'wkt': 'GEOGCRS[\"NAD83\",DATUM[\"North American Datum 1983\",ELLIPSOID[\"GRS 1980\",6378137,298.257222101,LENGTHUNIT[\"metre\",1]]],PRIMEM[\"Greenwich\",0,ANGLEUNIT[\"degree\",0.0174532925199433]],CS[ellipsoidal,2],AXIS[\"geodetic latitude (Lat)\",north,ORDER[1],ANGLEUNIT[\"degree\",0.0174532925199433]],AXIS[\"geodetic longitude (Lon)\",east,ORDER[2],ANGLEUNIT[\"degree\",0.0174532925199433]],USAGE[SCOPE[\"Geodesy.\"],AREA[\"North America - onshore and offshore: Canada - Alberta; British Columbia; Manitoba; New Brunswick; Newfoundland and Labrador; Northwest Territories; Nova Scotia; Nunavut; Ontario; Prince Edward Island; Quebec; Saskatchewan; Yukon. Puerto Rico. United States (USA) - Alabama; Alaska; Arizona; Arkansas; California; Colorado; Connecticut; Delaware; Florida; Georgia; Hawaii; Idaho; Illinois; Indiana; Iowa; Kansas; Kentucky; Louisiana; Maine; Maryland; Massachusetts; Michigan; Minnesota; Mississippi; Missouri; Montana; Nebraska; Nevada; New Hampshire; New Jersey; New Mexico; New York; North Carolina; North Dakota; Ohio; Oklahoma; Oregon; Pennsylvania; Rhode Island; South Carolina; South Dakota; Tennessee; Texas; Utah; Vermont; Virginia; Washington; West Virginia; Wisconsin; Wyoming. US Virgin Islands. British Virgin Islands.\"],BBOX[14.92,167.65,86.45,-40.73]],ID[\"EPSG\",4269]]', 'datum': 'North American Datum 1983', 'is_geographic': True, 'is_projected': False}, 'notes': ''}\n"
     ]
    }
   ],
   "source": [
    "print(pygcdl_obj.get_dataset_info(\"PRISM\"))"
   ]
  },
  {
   "cell_type": "markdown",
   "id": "9d1de97e",
   "metadata": {},
   "source": [
    "We can upload a geometry as:\n",
    "- A geojson file\n",
    "- A shapefile\n",
    "- A zipfile containing shapefile files\n",
    "- A csv file (point data only?)\n",
    "- A geopandas dataframe\n",
    "\n",
    "The GCDL can only handle generate polygon subsets of single polygons, or multipolygon objects that contain only one polygon. If the user attempts to upload a geopandas dataframe that contains multiple polygons, then pygcdl calculates the ratio between the area of the union of polygons, and the area of the convex hull. If the union of polygons covers at least 80% of the area of the convex hull, then the pygcdl uploads the convex hull. Otherwise, pygcdl uploads each polygon individually, and returns a list of GUIDs.\n",
    "\n",
    "If the user uploads a file, the file contents are not checked. So, it is possible for a user to upload a multipolygon file without any errors or warnings, and then run into errors when trying to use the GUID for that upload to download a polygon subset."
   ]
  },
  {
   "cell_type": "code",
   "execution_count": 2,
   "id": "8a1536ae",
   "metadata": {},
   "outputs": [
    {
     "name": "stdout",
     "output_type": "stream",
     "text": [
      "5e4eb22d-af3d-4c14-bb39-b4c31daa8a0c\n"
     ]
    }
   ],
   "source": [
    "# Upload a geojson\n",
    "guid0 = pygcdl_obj.upload_geometry(\"sample_data/clay_aoi.geojson\")\n",
    "print(guid0)"
   ]
  },
  {
   "cell_type": "code",
   "execution_count": 6,
   "id": "05b4a169",
   "metadata": {},
   "outputs": [
    {
     "name": "stdout",
     "output_type": "stream",
     "text": [
      "0ecc372f-2485-4985-8785-7f3df84c1eba\n"
     ]
    }
   ],
   "source": [
    "# Upload a shapefile, creates a zip file\n",
    "guid1 = pygcdl_obj.upload_geometry(\"sample_data/jer_bounds_sf.shp\")\n",
    "print(guid1)"
   ]
  },
  {
   "cell_type": "code",
   "execution_count": 9,
   "id": "cf78a59a",
   "metadata": {},
   "outputs": [
    {
     "name": "stdout",
     "output_type": "stream",
     "text": [
      "c0cc78bc-b407-4212-931e-9e2ba66fa242\n"
     ]
    }
   ],
   "source": [
    "# Upload a zipfile, assumes contents are .shp + associated files\n",
    "guid2 = pygcdl_obj.upload_geometry(\"sample_data/four_points.zip\")\n",
    "print(guid2)"
   ]
  },
  {
   "cell_type": "code",
   "execution_count": 10,
   "id": "77646fe7",
   "metadata": {},
   "outputs": [],
   "source": [
    "# Upload a CSV of points\n",
    "#guid3 = pygcdl_obj.upload_geometry(\"sample_data/...csv\")"
   ]
  },
  {
   "cell_type": "code",
   "execution_count": 3,
   "id": "ff99dbf6",
   "metadata": {},
   "outputs": [],
   "source": [
    "# CAUSES ERROR: upload a .shp without associated files in same directory\n",
    "#guid4 = pygcdl_obj.upload_geometry(\"sample_data/lonely_shapefile.shp\")"
   ]
  },
  {
   "cell_type": "code",
   "execution_count": 3,
   "id": "a1da7ef2",
   "metadata": {},
   "outputs": [
    {
     "name": "stdout",
     "output_type": "stream",
     "text": [
      "      dataset variable\n",
      "0       PRISM      ppt\n",
      "1  MODIS_NDVI     NDVI\n"
     ]
    }
   ],
   "source": [
    "dsvars = pd.DataFrame(\n",
    "    [[\"PRISM\", \"ppt\"], [\"MODIS_NDVI\", \"NDVI\"]], \n",
    "    columns=[\"dataset\", \"variable\"])\n",
    "print(dsvars)"
   ]
  },
  {
   "cell_type": "code",
   "execution_count": 4,
   "id": "b970330c",
   "metadata": {},
   "outputs": [],
   "source": [
    "years = \"2008\"\n",
    "months = \"7:8\"\n",
    "grain_method = \"any\""
   ]
  },
  {
   "cell_type": "code",
   "execution_count": 5,
   "id": "ade443ae",
   "metadata": {},
   "outputs": [],
   "source": [
    "spat_res = 1000 # in units of meters\n",
    "resample_method = \"bilinear\""
   ]
  },
  {
   "cell_type": "code",
   "execution_count": 7,
   "id": "a13ee07e",
   "metadata": {},
   "outputs": [],
   "source": [
    "output_path = Path(\"output_test\")\n",
    "if not output_path.is_dir():\n",
    "    output_path.mkdir()"
   ]
  },
  {
   "cell_type": "code",
   "execution_count": 10,
   "id": "b601d4bd",
   "metadata": {},
   "outputs": [
    {
     "name": "stdout",
     "output_type": "stream",
     "text": [
      "http://127.0.0.1:8000/subset_polygon?datasets=PRISM%3Appt%3BMODIS_NDVI%3ANDVI&geom_guid=0ecc372f-2485-4985-8785-7f3df84c1eba&resample_method=nearest&years=2008&months=7%3A8&grain_method=any&validate_method=strict&output_format=geotiff\n",
      "Written file:  output_test\\gcdl_subset_240426_140936_1.zip\n"
     ]
    },
    {
     "ename": "NameError",
     "evalue": "name 'ZipFile' is not defined",
     "output_type": "error",
     "traceback": [
      "\u001b[1;31m---------------------------------------------------------------------------\u001b[0m",
      "\u001b[1;31mNameError\u001b[0m                                 Traceback (most recent call last)",
      "Cell \u001b[1;32mIn[10], line 1\u001b[0m\n\u001b[1;32m----> 1\u001b[0m output_files \u001b[38;5;241m=\u001b[39m \u001b[43mpygcdl_obj\u001b[49m\u001b[38;5;241;43m.\u001b[39;49m\u001b[43mdownload_polygon_subset\u001b[49m\u001b[43m(\u001b[49m\n\u001b[0;32m      2\u001b[0m \u001b[43m    \u001b[49m\u001b[43mdsvars\u001b[49m\u001b[38;5;241;43m=\u001b[39;49m\u001b[43mdsvars\u001b[49m\u001b[43m,\u001b[49m\u001b[43m \u001b[49m\n\u001b[0;32m      3\u001b[0m \u001b[43m    \u001b[49m\u001b[43myears\u001b[49m\u001b[38;5;241;43m=\u001b[39;49m\u001b[43myears\u001b[49m\u001b[43m,\u001b[49m\n\u001b[0;32m      4\u001b[0m \u001b[43m    \u001b[49m\u001b[43mmonths\u001b[49m\u001b[38;5;241;43m=\u001b[39;49m\u001b[43mmonths\u001b[49m\u001b[43m,\u001b[49m\n\u001b[0;32m      5\u001b[0m \u001b[43m    \u001b[49m\u001b[43mgrain_method\u001b[49m\u001b[38;5;241;43m=\u001b[39;49m\u001b[43mgrain_method\u001b[49m\u001b[43m,\u001b[49m\n\u001b[0;32m      6\u001b[0m \u001b[43m    \u001b[49m\u001b[43mt_geom\u001b[49m\u001b[38;5;241;43m=\u001b[39;49m\u001b[43mguid1\u001b[49m\u001b[43m,\u001b[49m\n\u001b[0;32m      7\u001b[0m \u001b[43m    \u001b[49m\u001b[43mdsn\u001b[49m\u001b[38;5;241;43m=\u001b[39;49m\u001b[43moutput_path\u001b[49m\u001b[43m,\u001b[49m\n\u001b[0;32m      8\u001b[0m \u001b[43m)\u001b[49m\n",
      "File \u001b[1;32m~\\Documents\\pygcdl\\pygcdl.py:146\u001b[0m, in \u001b[0;36mPyGeoCDL.download_polygon_subset\u001b[1;34m(self, dsvars, dates, years, months, days, t_crs, resolution, t_geom, out_format, grain_method, validate_method, ri_method, dsn, req_name)\u001b[0m\n\u001b[0;32m    129\u001b[0m endpoint \u001b[38;5;241m=\u001b[39m \u001b[38;5;124m'\u001b[39m\u001b[38;5;124msubset_polygon\u001b[39m\u001b[38;5;124m'\u001b[39m\n\u001b[0;32m    131\u001b[0m q_str, param_dict \u001b[38;5;241m=\u001b[39m \u001b[38;5;28mself\u001b[39m\u001b[38;5;241m.\u001b[39m_format_subset_query(\n\u001b[0;32m    132\u001b[0m     dsvars\u001b[38;5;241m=\u001b[39mdsvars, \n\u001b[0;32m    133\u001b[0m     endpoint\u001b[38;5;241m=\u001b[39mendpoint,\n\u001b[1;32m   (...)\u001b[0m\n\u001b[0;32m    143\u001b[0m     validate_method\u001b[38;5;241m=\u001b[39mvalidate_method,\n\u001b[0;32m    144\u001b[0m     ri_method\u001b[38;5;241m=\u001b[39mri_method)\n\u001b[1;32m--> 146\u001b[0m out_files \u001b[38;5;241m=\u001b[39m \u001b[38;5;28;43mself\u001b[39;49m\u001b[38;5;241;43m.\u001b[39;49m\u001b[43m_submit_subset_query\u001b[49m\u001b[43m(\u001b[49m\u001b[43mq_str\u001b[49m\u001b[43m,\u001b[49m\u001b[43m \u001b[49m\u001b[43mparam_dict\u001b[49m\u001b[43m,\u001b[49m\u001b[43m \u001b[49m\u001b[43mdsn\u001b[49m\u001b[43m,\u001b[49m\u001b[43m \u001b[49m\u001b[43mreq_name\u001b[49m\u001b[43m)\u001b[49m\n\u001b[0;32m    147\u001b[0m \u001b[38;5;28;01mreturn\u001b[39;00m out_files\n",
      "File \u001b[1;32m~\\Documents\\pygcdl\\pygcdl.py:355\u001b[0m, in \u001b[0;36mPyGeoCDL._submit_subset_query\u001b[1;34m(self, query_str, param_dict, dsn, req_name)\u001b[0m\n\u001b[0;32m    353\u001b[0m     \u001b[38;5;28mprint\u001b[39m(\u001b[38;5;124m\"\u001b[39m\u001b[38;5;124mWritten file: \u001b[39m\u001b[38;5;124m\"\u001b[39m, \u001b[38;5;28mstr\u001b[39m(subset_zip))\n\u001b[0;32m    354\u001b[0m \u001b[38;5;66;03m# Unzip subset_zip\u001b[39;00m\n\u001b[1;32m--> 355\u001b[0m \u001b[38;5;28;01mwith\u001b[39;00m \u001b[43mZipFile\u001b[49m((\u001b[38;5;28mstr\u001b[39m(subset_zip)), \u001b[38;5;124m'\u001b[39m\u001b[38;5;124mr\u001b[39m\u001b[38;5;124m'\u001b[39m) \u001b[38;5;28;01mas\u001b[39;00m f:\n\u001b[0;32m    356\u001b[0m     \u001b[38;5;28mprint\u001b[39m(\u001b[38;5;124m\"\u001b[39m\u001b[38;5;124mFiles in downloaded zipfile: \u001b[39m\u001b[38;5;124m\"\u001b[39m, f\u001b[38;5;241m.\u001b[39mnamelist())\n\u001b[0;32m    357\u001b[0m     f\u001b[38;5;241m.\u001b[39mextractall(Path(dsn))\n",
      "\u001b[1;31mNameError\u001b[0m: name 'ZipFile' is not defined"
     ]
    }
   ],
   "source": [
    "output_files = pygcdl_obj.download_polygon_subset(\n",
    "    dsvars=dsvars, \n",
    "    years=years,\n",
    "    months=months,\n",
    "    grain_method=grain_method,\n",
    "    t_geom=guid1,\n",
    "    dsn=output_path,\n",
    ")"
   ]
  }
 ],
 "metadata": {
  "kernelspec": {
   "display_name": "Python 3 (ipykernel)",
   "language": "python",
   "name": "python3"
  },
  "language_info": {
   "codemirror_mode": {
    "name": "ipython",
    "version": 3
   },
   "file_extension": ".py",
   "mimetype": "text/x-python",
   "name": "python",
   "nbconvert_exporter": "python",
   "pygments_lexer": "ipython3",
   "version": "3.10.9"
  }
 },
 "nbformat": 4,
 "nbformat_minor": 5
}
