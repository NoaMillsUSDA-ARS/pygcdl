{
 "cells": [
  {
   "cell_type": "markdown",
   "id": "167f7d6b",
   "metadata": {},
   "source": [
    "# Python Package for USDA-ARS SCINet GeoCDL"
   ]
  },
  {
   "cell_type": "markdown",
   "id": "dc0826c2",
   "metadata": {},
   "source": [
    "## Overview\n",
    "This tutorial covers the python package `pygcdl` for the SCINet Geospatial Common \n",
    "Data Library (GeoCDL), a community project from the \n",
    "[Geospatial Research Working Group](https://scinet.usda.gov/working-groups/geospatial) \n",
    "to reduce the time and effort to access commonly used geospatial datasets. This tutorial is based on the vignette for the R counterpart of pygcdl, rgeocdl. We have\n",
    "collected several large gridded data products to store on Ceres and created a \n",
    "REST API for SCINet users to request the spatiotemporal subsets of those data \n",
    "that they need. The geospatial processing to create those subsets executes on \n",
    "Ceres and a service node has been setup to serve the API. \n",
    "\n",
    "This python package is a user-friendly interface to pass along user requests to the \n",
    "core GeoCDL API from the compute nodes. That is, the python package does not perform \n",
    "the geospatial processing itself. A major benefit of using this python package is that \n",
    "it was designed to integrate into a user's geospatial data processing workflow in \n",
    "R. For example, a user storing their study area boundary definition as a `geopandas.GeoDataFrame` \n",
    "object can pass along that object to this package's functions and the package will\n",
    "do the necessary formatting of the data to make it compatible with GeoCDL. \n",
    "\n",
    "The workflows we will cover include uploading a shapefile of an LTAR site, requesting data from two datasets clipped to the boundary of the LTAR site with equivalent resolutions and CRSs, and visualizing the resulting \n",
    "maps. We also show how to extract point level information from a gridded layer.\n",
    "\n",
    "This tutorial assumes you are running this notebook in JupyterLab on \n",
    "Ceres. The easiest way to do that is with \n",
    "[Open OnDemand](http://ceres-ood.scinet.usda.gov/). As of this writing, the GeoCDL \n",
    "is only available on Ceres and not Atlas. \n",
    "\n",
    "If you have any questions, problems, or requests related to the python interface, please \n",
    "use the issue tracker on our GitHub repository: \n",
    "[https://github.com/USDA-SCINet/rgeocdl](https://github.com/USDA-SCINet/pygcdl). "
   ]
  },
  {
   "cell_type": "markdown",
   "id": "19763f61",
   "metadata": {},
   "source": [
    "## Nomenclature\n",
    "\n",
    "* <b>GeoCDL:</b> Geospatial Common Data Library, a collection of commonly used raster \n",
    "  datasets accessible from an API running on SCINet's Ceres cluster\n",
    "* <b>Raster:</b> A geospatial datatype where data is stored as a grid of regularly sized pixels. Geospatial rasters contain geospatial metadata, which maps each pixel of the raster to a geospatial location on the Earth's surface. Examples of geospatial raster file types include: geotiff (.tif), and netCDF (.nc).\n",
    "* <b>Vector:</b> A geospatial datatype where data is stored as a collection of points, lines, or polygons. Each coordinate maps to a location on Earth's surface. Examples of geospatial vector file types include: geojson (.geojson), and shapefiles (.shp). \n",
    "* <b>CRS:</b> Coordinate Reference System, also known as a spatial reference system. A\n",
    "  system for defining geospatial coordinates."
   ]
  },
  {
   "cell_type": "markdown",
   "id": "6060e13a",
   "metadata": {},
   "source": [
    "## Data Details\n",
    "\n",
    "###### Dataset: MODIS NDVI\n",
    "* Link: [https://doi.org/10.3334/ORNLDAAC/1299](https://doi.org/10.3334/ORNLDAAC/1299)\n",
    "* Details: This data set provides Moderate Resolution Imaging Spectroradiometer \n",
    "  (MODIS) normalized difference vegetation index (NDVI) data, smoothed and gap-filled, \n",
    "  for the conterminous US for the period 2000-01-01 through 2015-12-31. The data \n",
    "  were generated using the NASA Stennis Time Series Product Tool (TSPT) to generate \n",
    "  NDVI data streams from the Terra satellite (MODIS MOD13Q1 product) and Aqua \n",
    "  satellite (MODIS MYD13Q1 product) instruments. TSPT produces NDVI data that \n",
    "  are less affected by clouds and bad pixels.\n",
    "\n",
    "###### Dataset: PRISM\n",
    "* Link: [https://prism.oregonstate.edu/](https://prism.oregonstate.edu/)\n",
    "* Details: The PRISM Climate Group gathers climate observations from a \n",
    "  wide range of monitoring networks, applies sophisticated quality control \n",
    "  measures, and develops spatial climate datasets to reveal short- and long-term \n",
    "  climate patterns. The resulting datasets incorporate a variety of modeling \n",
    "  techniques and are available at multiple spatial/temporal resolutions, covering \n",
    "  the period from 1895 to the present.\n"
   ]
  },
  {
   "cell_type": "markdown",
   "id": "08f8ae56",
   "metadata": {},
   "source": [
    "## Primary Libraries\n",
    "\n",
    "| Name | Description | Link |\n",
    "|:--|:--|:--|\n",
    "| pygcdl | Python interface for SCINet GeoCDL API | https://github.com/USDA-SCINet/pygcdl |\n",
    "| geopandas | Geospatial vector data for python | https://geopandas.org/en/stable/|\n",
    "| requests | \n"
   ]
  },
  {
   "cell_type": "markdown",
   "id": "bbf36866",
   "metadata": {},
   "source": [
    "### Tutorial Steps:\n",
    "0. Import Libraries\n",
    "1. Specify area and dates of interest \n",
    "2. Select datasets and their variables\n",
    "3. Download the data\n",
    "4. Visualize the results\n"
   ]
  },
  {
   "cell_type": "markdown",
   "id": "d59a6674",
   "metadata": {},
   "source": [
    "#### Part 0: Import Libraries"
   ]
  },
  {
   "cell_type": "code",
   "execution_count": 23,
   "id": "9f1842bf",
   "metadata": {},
   "outputs": [],
   "source": [
    "# Import the necessary packages\n",
    "\n",
    "import pygcdl\n",
    "import geopandas as gpd\n",
    "import pandas as pd\n",
    "import numpy as np\n",
    "from pathlib import Path\n",
    "import requests as r\n",
    "import rioxarray\n",
    "import xarray as xr"
   ]
  },
  {
   "cell_type": "code",
   "execution_count": 2,
   "id": "0680dbd8",
   "metadata": {},
   "outputs": [],
   "source": [
    "# Create the pygcdl object in order to interact with the pygcdl package\n",
    "pygcdl_obj = pygcdl.PyGeoCDL()"
   ]
  },
  {
   "cell_type": "markdown",
   "id": "200d063c",
   "metadata": {},
   "source": [
    "#### Part 1: Specify area and dates of interest "
   ]
  },
  {
   "cell_type": "markdown",
   "id": "7997c00b",
   "metadata": {},
   "source": [
    "Here, we specify the spatial extend of our requests. We can request either polygon-based or point-based subsets. When we request a subset, we can specify the spatial extent in one of these three ways:\n",
    "\n",
    "- <b>GUID: </b> Users can use the `upload_geometry()` function to upload a file or geopandas GeoDataFrame object, receive a Geometry Upload Identifier (GUID), and use that GUID for subsequent data requests.\n",
    "- <b>Clip: </b> Users can specify the coordinates of a bounding box (polygon data only).\n",
    "- <b>GeoDataFrame: </b> Users can build a geopandas.GeoDataFrame object and use it in requests directly, without uploading it in advance.\n",
    "\n",
    "For this tutorial, we will upload a shapefile containing polygon data that represents the Jornada Experimental Range in southern New Mexico."
   ]
  },
  {
   "cell_type": "code",
   "execution_count": 3,
   "id": "aebb6f4f",
   "metadata": {},
   "outputs": [],
   "source": [
    "# First, download the shapefile from AgCROS\n",
    "url = \"https://services1.arcgis.com/SyUSN23vOoYdfLC8/arcgis/rest/services/LTAR_Base/FeatureServer/1/query?where=acronym='JER'&f=pgeojson\"\n",
    "response = r.get(url)\n",
    "filename = \"jer_bounds_sf.geojson\"\n",
    "with open(filename, mode=\"wb\") as file:\n",
    "    file.write(response.content) # save file locally"
   ]
  },
  {
   "cell_type": "markdown",
   "id": "0f82c287",
   "metadata": {},
   "source": [
    "We wish to download data in the CRS EPSG:32613, so we load our file into geopandas, transform the crs, and overwrite the file. The EPSG:32613 CRS is a projected CRS that covers New Mexico in its area of use. You can learn more about this crs [here](https://epsg.io/32613)."
   ]
  },
  {
   "cell_type": "code",
   "execution_count": 4,
   "id": "594f5d1a",
   "metadata": {},
   "outputs": [],
   "source": [
    "bounds = gpd.read_file(filename) # load file into geopandas\n",
    "bounds = bounds.to_crs(\"EPSG:32613\") # transform geopandas dataframe to desired CRS\n",
    "bounds.to_file(filename) # overwrite file location with transformed data"
   ]
  },
  {
   "cell_type": "code",
   "execution_count": 5,
   "id": "7865ca96",
   "metadata": {
    "scrolled": true
   },
   "outputs": [
    {
     "data": {
      "text/plain": [
       "<Axes: >"
      ]
     },
     "execution_count": 5,
     "metadata": {},
     "output_type": "execute_result"
    },
    {
     "data": {
      "image/png": "[encoded data removed]",
      "text/plain": [
       "<Figure size 640x480 with 1 Axes>"
      ]
     },
     "metadata": {},
     "output_type": "display_data"
    }
   ],
   "source": [
    "# Visualize downloaded boundary\n",
    "bounds.boundary.plot()"
   ]
  },
  {
   "cell_type": "markdown",
   "id": "000e9850",
   "metadata": {},
   "source": [
    "We can see from the plotted map that the site is an irregular shape. For cases like this where the geometry is defined by many points, it is easiest to provide GeoCDL with a file containing the geometry definition, instead of uploading clipping coordinates. We can upload this geometry to GeoCDL using the `upload_geometry` function which returns a unique geometry upload identifier (GUID) that we will use later in our subset request. This stand-alone upload step is optional, but recommended if you are likely to submit multiple subset requests with the same geometry so that it is uploaded just once. You could alternatively use the geopandas GeoDataFrame object directly in requests, but if we upload the geometry file, then we can re-use the GUID.\n",
    "\n",
    "Here, we upload our file by calling `upload_geometry()` on our `pygcdl_obj` object."
   ]
  },
  {
   "cell_type": "code",
   "execution_count": 6,
   "id": "e170c9dc",
   "metadata": {},
   "outputs": [
    {
     "name": "stdout",
     "output_type": "stream",
     "text": [
      "91b8a9f2-9325-4340-903b-e1f1140377be\n"
     ]
    }
   ],
   "source": [
    "guid = pygcdl_obj.upload_geometry(bounds)\n",
    "print(guid)"
   ]
  },
  {
   "cell_type": "markdown",
   "id": "3d90ed70",
   "metadata": {},
   "source": [
    "To finish the spatial component of our subset request, we will define our target spatial resolution and a resampling method. By indicating a target spatial resolution along with our geometry, we are telling GeoCDL that we want a spatially-harmonized 'datacube', which means that each requested data layer has the same CRS, spatial resolution, and spatial extent. \n",
    "\n",
    "Unless we specify otherwise, the target CRS in this case is that of our geometry. Resampling is the process by which the GCDL calculates pixel values when the cell grid changes, like when we change the resolution or CRS. This calculation is performed by rasterio, and you can find the full list of reprojection methods [here](https://rasterio.readthedocs.io/en/stable/api/rasterio.enums.html#rasterio.enums.Resampling). The default resampling method is to take the nearest pixel. Here, we choose the \"bilinear\" method, which you can learn more about [here](https://gisgeography.com/bilinear-interpolation-resampling/).\n",
    "\n",
    "Our CRS, EPSG:32613, is in units of meters. Therefore, our spatial resolution is in units of meters. Here, we specify that we want each pixel to represent an area of 1000 by 1000 meters."
   ]
  },
  {
   "cell_type": "code",
   "execution_count": 7,
   "id": "0c33ee94",
   "metadata": {},
   "outputs": [],
   "source": [
    "spat_res = 1000 # in units of meters\n",
    "resample_method = \"bilinear\""
   ]
  },
  {
   "cell_type": "markdown",
   "id": "e455a40a",
   "metadata": {},
   "source": [
    "Next, we specify our temporal data. The GeoCDL accepts multiple temporal range formats so that many different user \n",
    "needs can be met. In this example, we are interested in July-August 2008. One way to specify that is with the years and months together as `'2008-07:2008-08'` or separately as below. By specifying years and months, we are letting GeoCDL know that we are interested in monthly data. If we only specify years, then it will infer we want annual data and if we also specifies days, then it will infer we want daily data. However, users can also request a combination of temporal grains by specifying a 'grain method'. In this example, we are also interested in both annual and daily data available within July-August 2008, so we will indicate the 'any' grain method."
   ]
  },
  {
   "cell_type": "code",
   "execution_count": 8,
   "id": "ab2e0e66",
   "metadata": {},
   "outputs": [],
   "source": [
    "years = \"2008\"\n",
    "months = \"7:8\"\n",
    "grain_method = \"any\""
   ]
  },
  {
   "cell_type": "markdown",
   "id": "ced32c2c",
   "metadata": {},
   "source": [
    "#### Part 2: Select datasets and their variables\n"
   ]
  },
  {
   "cell_type": "markdown",
   "id": "d8d4013a",
   "metadata": {},
   "source": [
    "We can use the `list_datasets()` function to list all of the datasets that are available in the Geospatial Common Data Library."
   ]
  },
  {
   "cell_type": "code",
   "execution_count": 9,
   "id": "ba342a3c",
   "metadata": {
    "scrolled": true
   },
   "outputs": [
    {
     "data": {
      "text/plain": [
       "{'DaymetV4': 'Daymet Version 4',\n",
       " 'GTOPO30': 'Global 30 Arc-Second Elevation',\n",
       " 'MODIS_NDVI': 'MODIS NDVI Data, Smoothed and Gap-filled, for the Conterminous US: 2000-2015',\n",
       " 'NASS_CDL': 'NASS Cropland Data Layer',\n",
       " 'NLCD': 'National Land Cover Database',\n",
       " 'PRISM': 'PRISM',\n",
       " 'RAPV3': 'Rangeland Analysis Platform Version 3',\n",
       " 'SMAP-HB1km': 'SMAP HydroBlocks - 1 km',\n",
       " 'Soilgrids250mV2': 'SoilGrids — global gridded soil information',\n",
       " 'VIP': 'Vegetation Index and Phenology (VIP) Vegetation Indices Daily Global 0.05Deg CMG V004'}"
      ]
     },
     "execution_count": 9,
     "metadata": {},
     "output_type": "execute_result"
    }
   ],
   "source": [
    "pygcdl_obj.list_datasets()"
   ]
  },
  {
   "cell_type": "markdown",
   "id": "7760e1c0",
   "metadata": {},
   "source": [
    "We can use the `get_dataset_info()` function to learn more about one specific dataset."
   ]
  },
  {
   "cell_type": "code",
   "execution_count": 10,
   "id": "d43ee0aa",
   "metadata": {},
   "outputs": [
    {
     "data": {
      "text/plain": [
       "{'name': 'MODIS NDVI Data, Smoothed and Gap-filled, for the Conterminous US: 2000-2015',\n",
       " 'id': 'MODIS_NDVI',\n",
       " 'url': 'https://doi.org/10.3334/ORNLDAAC/1299',\n",
       " 'description': 'This data set provides Moderate Resolution Imaging Spectroradiometer (MODIS) normalized difference vegetation index (NDVI) data, smoothed and gap-filled, for the conterminous US for the period 2000-01-01 through 2015-12-31. The data were generated using the NASA Stennis Time Series Product Tool (TSPT) to generate NDVI data streams from the Terra satellite (MODIS MOD13Q1 product) and Aqua satellite (MODIS MYD13Q1 product) instruments. TSPT produces NDVI data that are less affected by clouds and bad pixels.',\n",
       " 'provider_name': 'ORNL DAAC',\n",
       " 'provider_url': 'https://daac.ornl.gov',\n",
       " 'grid_size': 250,\n",
       " 'grid_unit': 'meters',\n",
       " 'vars': {'NDVI': 'Normalized Difference Vegetation Index'},\n",
       " 'temporal_resolution': {'year': None, 'month': None, 'day': '8 days'},\n",
       " 'date_ranges': {'year': [None, None],\n",
       "  'month': [None, None],\n",
       "  'day': ['2000-01-01', '2015-12-31']},\n",
       " 'crs': {'name': 'unknown',\n",
       "  'epsg': None,\n",
       "  'proj4': '+proj=laea +lat_0=45 +lon_0=-100 +x_0=0 +y_0=0 +ellps=sphere +units=m +no_defs +type=crs',\n",
       "  'wkt': 'PROJCRS[\"unknown\",BASEGEOGCRS[\"unknown\",DATUM[\"Unknown based on Normal Sphere (r=6370997) ellipsoid\",ELLIPSOID[\"Normal Sphere (r=6370997)\",6370997,0,LENGTHUNIT[\"metre\",1,ID[\"EPSG\",9001]]]],PRIMEM[\"Greenwich\",0,ANGLEUNIT[\"degree\",0.0174532925199433],ID[\"EPSG\",8901]]],CONVERSION[\"unknown\",METHOD[\"Lambert Azimuthal Equal Area (Spherical)\",ID[\"EPSG\",1027]],PARAMETER[\"Latitude of natural origin\",45,ANGLEUNIT[\"degree\",0.0174532925199433],ID[\"EPSG\",8801]],PARAMETER[\"Longitude of natural origin\",-100,ANGLEUNIT[\"degree\",0.0174532925199433],ID[\"EPSG\",8802]],PARAMETER[\"False easting\",0,LENGTHUNIT[\"metre\",1],ID[\"EPSG\",8806]],PARAMETER[\"False northing\",0,LENGTHUNIT[\"metre\",1],ID[\"EPSG\",8807]]],CS[Cartesian,2],AXIS[\"(E)\",east,ORDER[1],LENGTHUNIT[\"metre\",1,ID[\"EPSG\",9001]]],AXIS[\"(N)\",north,ORDER[2],LENGTHUNIT[\"metre\",1,ID[\"EPSG\",9001]]]]',\n",
       "  'datum': 'Unknown based on Normal Sphere (r=6370997) ellipsoid',\n",
       "  'is_geographic': False,\n",
       "  'is_projected': True},\n",
       " 'notes': ''}"
      ]
     },
     "execution_count": 10,
     "metadata": {},
     "output_type": "execute_result"
    }
   ],
   "source": [
    "# Get information about the MODIS_NDVI dataset\n",
    "pygcdl_obj.get_dataset_info(\"MODIS_NDVI\")"
   ]
  },
  {
   "cell_type": "code",
   "execution_count": 11,
   "id": "c0442c7f",
   "metadata": {},
   "outputs": [
    {
     "data": {
      "text/plain": [
       "{'name': 'PRISM',\n",
       " 'id': 'PRISM',\n",
       " 'url': 'https://prism.oregonstate.edu/',\n",
       " 'description': 'The PRISM Climate Group gathers climate observations from a wide range of monitoring networks, applies sophisticated quality control measures, and develops spatial climate datasets to reveal short- and long-term climate patterns. The resulting datasets incorporate a variety of modeling techniques and are available at multiple spatial/temporal resolutions, covering the period from 1895 to the present.',\n",
       " 'provider_name': 'PRISM Climate Group, Oregon State University',\n",
       " 'provider_url': 'https://prism.oregonstate.edu/',\n",
       " 'grid_size': 0.041666666666666664,\n",
       " 'grid_unit': 'degrees',\n",
       " 'vars': {'ppt': 'total precipitation (rain+melted snow)',\n",
       "  'tmean': 'mean temperature (mean of tmin and tmax)',\n",
       "  'tmin': 'minimum temperature',\n",
       "  'tmax': 'maximum temperature',\n",
       "  'tdmean': 'mean dew point temperature',\n",
       "  'vpdmin': 'minimum vapor pressure deficit',\n",
       "  'vpdmax': 'maximum vapor pressure deficit'},\n",
       " 'temporal_resolution': {'year': '1 year', 'month': '1 month', 'day': '1 day'},\n",
       " 'date_ranges': {'year': [1895, 2020],\n",
       "  'month': ['1895-01', '2021-01'],\n",
       "  'day': ['1981-01-01', '2021-01-31']},\n",
       " 'crs': {'name': 'NAD83',\n",
       "  'epsg': 4269,\n",
       "  'proj4': '+proj=longlat +datum=NAD83 +no_defs +type=crs',\n",
       "  'wkt': 'GEOGCRS[\"NAD83\",DATUM[\"North American Datum 1983\",ELLIPSOID[\"GRS 1980\",6378137,298.257222101,LENGTHUNIT[\"metre\",1]]],PRIMEM[\"Greenwich\",0,ANGLEUNIT[\"degree\",0.0174532925199433]],CS[ellipsoidal,2],AXIS[\"geodetic latitude (Lat)\",north,ORDER[1],ANGLEUNIT[\"degree\",0.0174532925199433]],AXIS[\"geodetic longitude (Lon)\",east,ORDER[2],ANGLEUNIT[\"degree\",0.0174532925199433]],USAGE[SCOPE[\"Geodesy.\"],AREA[\"North America - onshore and offshore: Canada - Alberta; British Columbia; Manitoba; New Brunswick; Newfoundland and Labrador; Northwest Territories; Nova Scotia; Nunavut; Ontario; Prince Edward Island; Quebec; Saskatchewan; Yukon. Puerto Rico. United States (USA) - Alabama; Alaska; Arizona; Arkansas; California; Colorado; Connecticut; Delaware; Florida; Georgia; Hawaii; Idaho; Illinois; Indiana; Iowa; Kansas; Kentucky; Louisiana; Maine; Maryland; Massachusetts; Michigan; Minnesota; Mississippi; Missouri; Montana; Nebraska; Nevada; New Hampshire; New Jersey; New Mexico; New York; North Carolina; North Dakota; Ohio; Oklahoma; Oregon; Pennsylvania; Rhode Island; South Carolina; South Dakota; Tennessee; Texas; Utah; Vermont; Virginia; Washington; West Virginia; Wisconsin; Wyoming. US Virgin Islands. British Virgin Islands.\"],BBOX[14.92,167.65,86.45,-40.73]],ID[\"EPSG\",4269]]',\n",
       "  'datum': 'North American Datum 1983',\n",
       "  'is_geographic': True,\n",
       "  'is_projected': False},\n",
       " 'notes': ''}"
      ]
     },
     "execution_count": 11,
     "metadata": {},
     "output_type": "execute_result"
    }
   ],
   "source": [
    "# Get information about the PRISM dataset\n",
    "pygcdl_obj.get_dataset_info(\"PRISM\")"
   ]
  },
  {
   "cell_type": "markdown",
   "id": "1ecaed69",
   "metadata": {},
   "source": [
    "Next, we will specify the datasets and variables we wish to use with a pandas dataframe. Here we specify that we want the ppt variable from the PRISM dataset, and the NDVI variable from the MODIS_NDVI dataset. We can format our dataset and variable specifications as a pandas dataframe, a numpy array, a matrix, or a dict. Here, we format our specifications as a pandas dataframe."
   ]
  },
  {
   "cell_type": "code",
   "execution_count": 12,
   "id": "4828ff38",
   "metadata": {},
   "outputs": [
    {
     "name": "stdout",
     "output_type": "stream",
     "text": [
      "      dataset variable\n",
      "0       PRISM      ppt\n",
      "1  MODIS_NDVI     NDVI\n"
     ]
    }
   ],
   "source": [
    "dsvars = pd.DataFrame(\n",
    "    [[\"PRISM\", \"ppt\"], [\"MODIS_NDVI\", \"NDVI\"]], \n",
    "    columns=[\"dataset\", \"variable\"])\n",
    "print(dsvars)"
   ]
  },
  {
   "cell_type": "markdown",
   "id": "32697e50",
   "metadata": {},
   "source": [
    "#### Part 3: Download the data"
   ]
  },
  {
   "cell_type": "markdown",
   "id": "56462ad3",
   "metadata": {},
   "source": [
    "First, we create a directory where we would like our data to download to."
   ]
  },
  {
   "cell_type": "code",
   "execution_count": 13,
   "id": "40f40cab",
   "metadata": {},
   "outputs": [],
   "source": [
    "output_path = Path(\"output\")\n",
    "if not output_path.is_dir():\n",
    "    output_path.mkdir()"
   ]
  },
  {
   "cell_type": "markdown",
   "id": "f56771dd",
   "metadata": {},
   "source": [
    "Up until now, we have been primarily saving our request specifications as variables. We will now pass each of those variables to the GeoCDL and download our subset using the `download_polygon_subset` function. GeoCDL returns a zipped folder of results and `pygcdl` unzips it for you. `download_polygon_subset` returns the filenames in that folder. We have here two monthly PRISM layers, XX daily MODIS NDVI layers (every 8 days), plus a metadata file that lists metadata related to the geospatial datasets as well as the GeoCDL request itself. The raster layer files are GeoTIFFs with the dataset, variable, and date indicated in the  filename."
   ]
  },
  {
   "cell_type": "code",
   "execution_count": 14,
   "id": "f052baee",
   "metadata": {
    "scrolled": true
   },
   "outputs": [
    {
     "name": "stdout",
     "output_type": "stream",
     "text": [
      "http://127.0.0.1:8000/subset_polygon?datasets=PRISM%3Appt%3BMODIS_NDVI%3ANDVI&geom_guid=91b8a9f2-9325-4340-903b-e1f1140377be&resample_method=nearest&years=2008&months=7%3A8&grain_method=any&validate_method=strict&output_format=geotiff\n",
      "Files downloaded and unzipped:  ['metadata.json', 'PRISM_ppt_2008-07.tif', 'PRISM_ppt_2008-08.tif', 'MODIS_NDVI_NDVI_2008-07-07.tif', 'MODIS_NDVI_NDVI_2008-07-15.tif', 'MODIS_NDVI_NDVI_2008-07-23.tif', 'MODIS_NDVI_NDVI_2008-07-31.tif', 'MODIS_NDVI_NDVI_2008-08-08.tif', 'MODIS_NDVI_NDVI_2008-08-16.tif', 'MODIS_NDVI_NDVI_2008-08-24.tif']\n"
     ]
    }
   ],
   "source": [
    "subset_files = pygcdl_obj.download_polygon_subset(\n",
    "    dsvars=dsvars, \n",
    "    years=years,\n",
    "    months=months,\n",
    "    grain_method=grain_method,\n",
    "    t_geom=guid,\n",
    "    dsn=output_path,\n",
    ")"
   ]
  },
  {
   "cell_type": "code",
   "execution_count": 15,
   "id": "150cbd67",
   "metadata": {},
   "outputs": [
    {
     "data": {
      "text/plain": [
       "['output/metadata.json',\n",
       " 'output/PRISM_ppt_2008-07.tif',\n",
       " 'output/PRISM_ppt_2008-08.tif',\n",
       " 'output/MODIS_NDVI_NDVI_2008-07-07.tif',\n",
       " 'output/MODIS_NDVI_NDVI_2008-07-15.tif',\n",
       " 'output/MODIS_NDVI_NDVI_2008-07-23.tif',\n",
       " 'output/MODIS_NDVI_NDVI_2008-07-31.tif',\n",
       " 'output/MODIS_NDVI_NDVI_2008-08-08.tif',\n",
       " 'output/MODIS_NDVI_NDVI_2008-08-16.tif',\n",
       " 'output/MODIS_NDVI_NDVI_2008-08-24.tif']"
      ]
     },
     "execution_count": 15,
     "metadata": {},
     "output_type": "execute_result"
    }
   ],
   "source": [
    "subset_files"
   ]
  },
  {
   "cell_type": "markdown",
   "id": "3750c597",
   "metadata": {},
   "source": [
    "#### Part 4: Visualize the results"
   ]
  },
  {
   "cell_type": "markdown",
   "id": "eb4d1221",
   "metadata": {},
   "source": [
    "Our use of `pygcdl` for this example is complete, but we can visualize the data that we downloaded. We can see that in our site, NDVI increased over July-August in 2008 but by different degrees within the site. "
   ]
  },
  {
   "cell_type": "code",
   "execution_count": 17,
   "id": "77a076de",
   "metadata": {},
   "outputs": [
    {
     "name": "stdout",
     "output_type": "stream",
     "text": [
      "['output/MODIS_NDVI_NDVI_2008-07-07.tif', 'output/MODIS_NDVI_NDVI_2008-07-15.tif', 'output/MODIS_NDVI_NDVI_2008-07-23.tif', 'output/MODIS_NDVI_NDVI_2008-07-31.tif', 'output/MODIS_NDVI_NDVI_2008-08-08.tif', 'output/MODIS_NDVI_NDVI_2008-08-16.tif', 'output/MODIS_NDVI_NDVI_2008-08-24.tif']\n"
     ]
    }
   ],
   "source": [
    "# List NDVI GeoTIFFs and read in together with rioxarray package\n",
    "subset_tifs = [k for k in subset_files if \".tif\" in k and \"NDVI\" in k]\n",
    "print(subset_tifs)"
   ]
  },
  {
   "cell_type": "code",
   "execution_count": 37,
   "id": "5073504c",
   "metadata": {},
   "outputs": [
    {
     "name": "stdout",
     "output_type": "stream",
     "text": [
      "7\n"
     ]
    }
   ],
   "source": [
    "subset_stack = [rioxarray.open_rasterio(k) for k in subset_tifs]\n",
    "print(len(subset_stack))"
   ]
  },
  {
   "cell_type": "code",
   "execution_count": 40,
   "id": "2beb4fca",
   "metadata": {},
   "outputs": [],
   "source": [
    "rgb_arrays = []\n",
    "for array in subset_stack:\n",
    "    array = xr.concat([array, array, array], dim = \"band\")\n",
    "    rgb_arrays.append(array)"
   ]
  },
  {
   "cell_type": "code",
   "execution_count": 41,
   "id": "735c26e9",
   "metadata": {},
   "outputs": [
    {
     "data": {
      "text/html": [
       "<div><svg style=\"position: absolute; width: 0; height: 0; overflow: hidden\">\n",
       "<defs>\n",
       "<symbol id=\"icon-database\" viewBox=\"0 0 32 32\">\n",
       "<path d=\"M16 0c-8.837 0-16 2.239-16 5v4c0 2.761 7.163 5 16 5s16-2.239 16-5v-4c0-2.761-7.163-5-16-5z\"></path>\n",
       "<path d=\"M16 17c-8.837 0-16-2.239-16-5v6c0 2.761 7.163 5 16 5s16-2.239 16-5v-6c0 2.761-7.163 5-16 5z\"></path>\n",
       "<path d=\"M16 26c-8.837 0-16-2.239-16-5v6c0 2.761 7.163 5 16 5s16-2.239 16-5v-6c0 2.761-7.163 5-16 5z\"></path>\n",
       "</symbol>\n",
       "<symbol id=\"icon-file-text2\" viewBox=\"0 0 32 32\">\n",
       "<path d=\"M28.681 7.159c-0.694-0.947-1.662-2.053-2.724-3.116s-2.169-2.030-3.116-2.724c-1.612-1.182-2.393-1.319-2.841-1.319h-15.5c-1.378 0-2.5 1.121-2.5 2.5v27c0 1.378 1.122 2.5 2.5 2.5h23c1.378 0 2.5-1.122 2.5-2.5v-19.5c0-0.448-0.137-1.23-1.319-2.841zM24.543 5.457c0.959 0.959 1.712 1.825 2.268 2.543h-4.811v-4.811c0.718 0.556 1.584 1.309 2.543 2.268zM28 29.5c0 0.271-0.229 0.5-0.5 0.5h-23c-0.271 0-0.5-0.229-0.5-0.5v-27c0-0.271 0.229-0.5 0.5-0.5 0 0 15.499-0 15.5 0v7c0 0.552 0.448 1 1 1h7v19.5z\"></path>\n",
       "<path d=\"M23 26h-14c-0.552 0-1-0.448-1-1s0.448-1 1-1h14c0.552 0 1 0.448 1 1s-0.448 1-1 1z\"></path>\n",
       "<path d=\"M23 22h-14c-0.552 0-1-0.448-1-1s0.448-1 1-1h14c0.552 0 1 0.448 1 1s-0.448 1-1 1z\"></path>\n",
       "<path d=\"M23 18h-14c-0.552 0-1-0.448-1-1s0.448-1 1-1h14c0.552 0 1 0.448 1 1s-0.448 1-1 1z\"></path>\n",
       "</symbol>\n",
       "</defs>\n",
       "</svg>\n",
       "<style>/* CSS stylesheet for displaying xarray objects in jupyterlab.\n",
       " *\n",
       " */\n",
       "\n",
       ":root {\n",
       "  --xr-font-color0: var(--jp-content-font-color0, rgba(0, 0, 0, 1));\n",
       "  --xr-font-color2: var(--jp-content-font-color2, rgba(0, 0, 0, 0.54));\n",
       "  --xr-font-color3: var(--jp-content-font-color3, rgba(0, 0, 0, 0.38));\n",
       "  --xr-border-color: var(--jp-border-color2, #e0e0e0);\n",
       "  --xr-disabled-color: var(--jp-layout-color3, #bdbdbd);\n",
       "  --xr-background-color: var(--jp-layout-color0, white);\n",
       "  --xr-background-color-row-even: var(--jp-layout-color1, white);\n",
       "  --xr-background-color-row-odd: var(--jp-layout-color2, #eeeeee);\n",
       "}\n",
       "\n",
       "html[theme=dark],\n",
       "body[data-theme=dark],\n",
       "body.vscode-dark {\n",
       "  --xr-font-color0: rgba(255, 255, 255, 1);\n",
       "  --xr-font-color2: rgba(255, 255, 255, 0.54);\n",
       "  --xr-font-color3: rgba(255, 255, 255, 0.38);\n",
       "  --xr-border-color: #1F1F1F;\n",
       "  --xr-disabled-color: #515151;\n",
       "  --xr-background-color: #111111;\n",
       "  --xr-background-color-row-even: #111111;\n",
       "  --xr-background-color-row-odd: #313131;\n",
       "}\n",
       "\n",
       ".xr-wrap {\n",
       "  display: block !important;\n",
       "  min-width: 300px;\n",
       "  max-width: 700px;\n",
       "}\n",
       "\n",
       ".xr-text-repr-fallback {\n",
       "  /* fallback to plain text repr when CSS is not injected (untrusted notebook) */\n",
       "  display: none;\n",
       "}\n",
       "\n",
       ".xr-header {\n",
       "  padding-top: 6px;\n",
       "  padding-bottom: 6px;\n",
       "  margin-bottom: 4px;\n",
       "  border-bottom: solid 1px var(--xr-border-color);\n",
       "}\n",
       "\n",
       ".xr-header > div,\n",
       ".xr-header > ul {\n",
       "  display: inline;\n",
       "  margin-top: 0;\n",
       "  margin-bottom: 0;\n",
       "}\n",
       "\n",
       ".xr-obj-type,\n",
       ".xr-array-name {\n",
       "  margin-left: 2px;\n",
       "  margin-right: 10px;\n",
       "}\n",
       "\n",
       ".xr-obj-type {\n",
       "  color: var(--xr-font-color2);\n",
       "}\n",
       "\n",
       ".xr-sections {\n",
       "  padding-left: 0 !important;\n",
       "  display: grid;\n",
       "  grid-template-columns: 150px auto auto 1fr 20px 20px;\n",
       "}\n",
       "\n",
       ".xr-section-item {\n",
       "  display: contents;\n",
       "}\n",
       "\n",
       ".xr-section-item input {\n",
       "  display: none;\n",
       "}\n",
       "\n",
       ".xr-section-item input + label {\n",
       "  color: var(--xr-disabled-color);\n",
       "}\n",
       "\n",
       ".xr-section-item input:enabled + label {\n",
       "  cursor: pointer;\n",
       "  color: var(--xr-font-color2);\n",
       "}\n",
       "\n",
       ".xr-section-item input:enabled + label:hover {\n",
       "  color: var(--xr-font-color0);\n",
       "}\n",
       "\n",
       ".xr-section-summary {\n",
       "  grid-column: 1;\n",
       "  color: var(--xr-font-color2);\n",
       "  font-weight: 500;\n",
       "}\n",
       "\n",
       ".xr-section-summary > span {\n",
       "  display: inline-block;\n",
       "  padding-left: 0.5em;\n",
       "}\n",
       "\n",
       ".xr-section-summary-in:disabled + label {\n",
       "  color: var(--xr-font-color2);\n",
       "}\n",
       "\n",
       ".xr-section-summary-in + label:before {\n",
       "  display: inline-block;\n",
       "  content: '►';\n",
       "  font-size: 11px;\n",
       "  width: 15px;\n",
       "  text-align: center;\n",
       "}\n",
       "\n",
       ".xr-section-summary-in:disabled + label:before {\n",
       "  color: var(--xr-disabled-color);\n",
       "}\n",
       "\n",
       ".xr-section-summary-in:checked + label:before {\n",
       "  content: '▼';\n",
       "}\n",
       "\n",
       ".xr-section-summary-in:checked + label > span {\n",
       "  display: none;\n",
       "}\n",
       "\n",
       ".xr-section-summary,\n",
       ".xr-section-inline-details {\n",
       "  padding-top: 4px;\n",
       "  padding-bottom: 4px;\n",
       "}\n",
       "\n",
       ".xr-section-inline-details {\n",
       "  grid-column: 2 / -1;\n",
       "}\n",
       "\n",
       ".xr-section-details {\n",
       "  display: none;\n",
       "  grid-column: 1 / -1;\n",
       "  margin-bottom: 5px;\n",
       "}\n",
       "\n",
       ".xr-section-summary-in:checked ~ .xr-section-details {\n",
       "  display: contents;\n",
       "}\n",
       "\n",
       ".xr-array-wrap {\n",
       "  grid-column: 1 / -1;\n",
       "  display: grid;\n",
       "  grid-template-columns: 20px auto;\n",
       "}\n",
       "\n",
       ".xr-array-wrap > label {\n",
       "  grid-column: 1;\n",
       "  vertical-align: top;\n",
       "}\n",
       "\n",
       ".xr-preview {\n",
       "  color: var(--xr-font-color3);\n",
       "}\n",
       "\n",
       ".xr-array-preview,\n",
       ".xr-array-data {\n",
       "  padding: 0 5px !important;\n",
       "  grid-column: 2;\n",
       "}\n",
       "\n",
       ".xr-array-data,\n",
       ".xr-array-in:checked ~ .xr-array-preview {\n",
       "  display: none;\n",
       "}\n",
       "\n",
       ".xr-array-in:checked ~ .xr-array-data,\n",
       ".xr-array-preview {\n",
       "  display: inline-block;\n",
       "}\n",
       "\n",
       ".xr-dim-list {\n",
       "  display: inline-block !important;\n",
       "  list-style: none;\n",
       "  padding: 0 !important;\n",
       "  margin: 0;\n",
       "}\n",
       "\n",
       ".xr-dim-list li {\n",
       "  display: inline-block;\n",
       "  padding: 0;\n",
       "  margin: 0;\n",
       "}\n",
       "\n",
       ".xr-dim-list:before {\n",
       "  content: '(';\n",
       "}\n",
       "\n",
       ".xr-dim-list:after {\n",
       "  content: ')';\n",
       "}\n",
       "\n",
       ".xr-dim-list li:not(:last-child):after {\n",
       "  content: ',';\n",
       "  padding-right: 5px;\n",
       "}\n",
       "\n",
       ".xr-has-index {\n",
       "  font-weight: bold;\n",
       "}\n",
       "\n",
       ".xr-var-list,\n",
       ".xr-var-item {\n",
       "  display: contents;\n",
       "}\n",
       "\n",
       ".xr-var-item > div,\n",
       ".xr-var-item label,\n",
       ".xr-var-item > .xr-var-name span {\n",
       "  background-color: var(--xr-background-color-row-even);\n",
       "  margin-bottom: 0;\n",
       "}\n",
       "\n",
       ".xr-var-item > .xr-var-name:hover span {\n",
       "  padding-right: 5px;\n",
       "}\n",
       "\n",
       ".xr-var-list > li:nth-child(odd) > div,\n",
       ".xr-var-list > li:nth-child(odd) > label,\n",
       ".xr-var-list > li:nth-child(odd) > .xr-var-name span {\n",
       "  background-color: var(--xr-background-color-row-odd);\n",
       "}\n",
       "\n",
       ".xr-var-name {\n",
       "  grid-column: 1;\n",
       "}\n",
       "\n",
       ".xr-var-dims {\n",
       "  grid-column: 2;\n",
       "}\n",
       "\n",
       ".xr-var-dtype {\n",
       "  grid-column: 3;\n",
       "  text-align: right;\n",
       "  color: var(--xr-font-color2);\n",
       "}\n",
       "\n",
       ".xr-var-preview {\n",
       "  grid-column: 4;\n",
       "}\n",
       "\n",
       ".xr-index-preview {\n",
       "  grid-column: 2 / 5;\n",
       "  color: var(--xr-font-color2);\n",
       "}\n",
       "\n",
       ".xr-var-name,\n",
       ".xr-var-dims,\n",
       ".xr-var-dtype,\n",
       ".xr-preview,\n",
       ".xr-attrs dt {\n",
       "  white-space: nowrap;\n",
       "  overflow: hidden;\n",
       "  text-overflow: ellipsis;\n",
       "  padding-right: 10px;\n",
       "}\n",
       "\n",
       ".xr-var-name:hover,\n",
       ".xr-var-dims:hover,\n",
       ".xr-var-dtype:hover,\n",
       ".xr-attrs dt:hover {\n",
       "  overflow: visible;\n",
       "  width: auto;\n",
       "  z-index: 1;\n",
       "}\n",
       "\n",
       ".xr-var-attrs,\n",
       ".xr-var-data,\n",
       ".xr-index-data {\n",
       "  display: none;\n",
       "  background-color: var(--xr-background-color) !important;\n",
       "  padding-bottom: 5px !important;\n",
       "}\n",
       "\n",
       ".xr-var-attrs-in:checked ~ .xr-var-attrs,\n",
       ".xr-var-data-in:checked ~ .xr-var-data,\n",
       ".xr-index-data-in:checked ~ .xr-index-data {\n",
       "  display: block;\n",
       "}\n",
       "\n",
       ".xr-var-data > table {\n",
       "  float: right;\n",
       "}\n",
       "\n",
       ".xr-var-name span,\n",
       ".xr-var-data,\n",
       ".xr-index-name div,\n",
       ".xr-index-data,\n",
       ".xr-attrs {\n",
       "  padding-left: 25px !important;\n",
       "}\n",
       "\n",
       ".xr-attrs,\n",
       ".xr-var-attrs,\n",
       ".xr-var-data,\n",
       ".xr-index-data {\n",
       "  grid-column: 1 / -1;\n",
       "}\n",
       "\n",
       "dl.xr-attrs {\n",
       "  padding: 0;\n",
       "  margin: 0;\n",
       "  display: grid;\n",
       "  grid-template-columns: 125px auto;\n",
       "}\n",
       "\n",
       ".xr-attrs dt,\n",
       ".xr-attrs dd {\n",
       "  padding: 0;\n",
       "  margin: 0;\n",
       "  float: left;\n",
       "  padding-right: 10px;\n",
       "  width: auto;\n",
       "}\n",
       "\n",
       ".xr-attrs dt {\n",
       "  font-weight: normal;\n",
       "  grid-column: 1;\n",
       "}\n",
       "\n",
       ".xr-attrs dt:hover span {\n",
       "  display: inline-block;\n",
       "  background: var(--xr-background-color);\n",
       "  padding-right: 10px;\n",
       "}\n",
       "\n",
       ".xr-attrs dd {\n",
       "  grid-column: 2;\n",
       "  white-space: pre-wrap;\n",
       "  word-break: break-all;\n",
       "}\n",
       "\n",
       ".xr-icon-database,\n",
       ".xr-icon-file-text2,\n",
       ".xr-no-icon {\n",
       "  display: inline-block;\n",
       "  vertical-align: middle;\n",
       "  width: 1em;\n",
       "  height: 1.5em !important;\n",
       "  stroke-width: 0;\n",
       "  stroke: currentColor;\n",
       "  fill: currentColor;\n",
       "}\n",
       "</style><pre class='xr-text-repr-fallback'>&lt;xarray.DataArray (band: 3, y: 169, x: 148)&gt;\n",
       "array([[[-1, -1, -1, ..., -1, -1, -1],\n",
       "        [-1, -1, -1, ..., -1, -1, -1],\n",
       "        [-1, -1, -1, ..., -1, -1, -1],\n",
       "        ...,\n",
       "        [-1, -1, -1, ..., -1, -1, -1],\n",
       "        [-1, -1, -1, ..., -1, -1, -1],\n",
       "        [-1, -1, -1, ..., -1, -1, -1]],\n",
       "\n",
       "       [[-1, -1, -1, ..., -1, -1, -1],\n",
       "        [-1, -1, -1, ..., -1, -1, -1],\n",
       "        [-1, -1, -1, ..., -1, -1, -1],\n",
       "        ...,\n",
       "        [-1, -1, -1, ..., -1, -1, -1],\n",
       "        [-1, -1, -1, ..., -1, -1, -1],\n",
       "        [-1, -1, -1, ..., -1, -1, -1]],\n",
       "\n",
       "       [[-1, -1, -1, ..., -1, -1, -1],\n",
       "        [-1, -1, -1, ..., -1, -1, -1],\n",
       "        [-1, -1, -1, ..., -1, -1, -1],\n",
       "        ...,\n",
       "        [-1, -1, -1, ..., -1, -1, -1],\n",
       "        [-1, -1, -1, ..., -1, -1, -1],\n",
       "        [-1, -1, -1, ..., -1, -1, -1]]], dtype=int8)\n",
       "Coordinates:\n",
       "  * band         (band) int32 1 1 1\n",
       "  * x            (x) float64 -6.466e+05 -6.463e+05 ... -6.127e+05 -6.125e+05\n",
       "  * y            (y) float64 -1.366e+06 -1.365e+06 ... -1.327e+06 -1.327e+06\n",
       "    spatial_ref  int32 0\n",
       "Attributes:\n",
       "    AREA_OR_POINT:  Area\n",
       "    long_name:      MODIS NDVI Data smoothed and gap-filled for conterminous US\n",
       "    standard_name:  normalized_difference_vegetation_index\n",
       "    units:          1\n",
       "    _ChunkSizes:    [1, 1719, 2438]\n",
       "    _FillValue:     -1\n",
       "    scale_factor:   0.01\n",
       "    add_offset:     0.0</pre><div class='xr-wrap' style='display:none'><div class='xr-header'><div class='xr-obj-type'>xarray.DataArray</div><div class='xr-array-name'></div><ul class='xr-dim-list'><li><span class='xr-has-index'>band</span>: 3</li><li><span class='xr-has-index'>y</span>: 169</li><li><span class='xr-has-index'>x</span>: 148</li></ul></div><ul class='xr-sections'><li class='xr-section-item'><div class='xr-array-wrap'><input id='section-bc044ecc-5b80-49e5-a107-1aed80da4763' class='xr-array-in' type='checkbox' checked><label for='section-bc044ecc-5b80-49e5-a107-1aed80da4763' title='Show/hide data repr'><svg class='icon xr-icon-database'><use xlink:href='#icon-database'></use></svg></label><div class='xr-array-preview xr-preview'><span>-1 -1 -1 -1 -1 -1 -1 -1 -1 -1 -1 ... -1 -1 -1 -1 -1 -1 -1 -1 -1 -1 -1</span></div><div class='xr-array-data'><pre>array([[[-1, -1, -1, ..., -1, -1, -1],\n",
       "        [-1, -1, -1, ..., -1, -1, -1],\n",
       "        [-1, -1, -1, ..., -1, -1, -1],\n",
       "        ...,\n",
       "        [-1, -1, -1, ..., -1, -1, -1],\n",
       "        [-1, -1, -1, ..., -1, -1, -1],\n",
       "        [-1, -1, -1, ..., -1, -1, -1]],\n",
       "\n",
       "       [[-1, -1, -1, ..., -1, -1, -1],\n",
       "        [-1, -1, -1, ..., -1, -1, -1],\n",
       "        [-1, -1, -1, ..., -1, -1, -1],\n",
       "        ...,\n",
       "        [-1, -1, -1, ..., -1, -1, -1],\n",
       "        [-1, -1, -1, ..., -1, -1, -1],\n",
       "        [-1, -1, -1, ..., -1, -1, -1]],\n",
       "\n",
       "       [[-1, -1, -1, ..., -1, -1, -1],\n",
       "        [-1, -1, -1, ..., -1, -1, -1],\n",
       "        [-1, -1, -1, ..., -1, -1, -1],\n",
       "        ...,\n",
       "        [-1, -1, -1, ..., -1, -1, -1],\n",
       "        [-1, -1, -1, ..., -1, -1, -1],\n",
       "        [-1, -1, -1, ..., -1, -1, -1]]], dtype=int8)</pre></div></div></li><li class='xr-section-item'><input id='section-6646f229-7a60-4f41-806a-e549739c228f' class='xr-section-summary-in' type='checkbox'  checked><label for='section-6646f229-7a60-4f41-806a-e549739c228f' class='xr-section-summary' >Coordinates: <span>(4)</span></label><div class='xr-section-inline-details'></div><div class='xr-section-details'><ul class='xr-var-list'><li class='xr-var-item'><div class='xr-var-name'><span class='xr-has-index'>band</span></div><div class='xr-var-dims'>(band)</div><div class='xr-var-dtype'>int32</div><div class='xr-var-preview xr-preview'>1 1 1</div><input id='attrs-2c3019e2-41d8-4167-94a7-831169266bec' class='xr-var-attrs-in' type='checkbox' disabled><label for='attrs-2c3019e2-41d8-4167-94a7-831169266bec' title='Show/Hide attributes'><svg class='icon xr-icon-file-text2'><use xlink:href='#icon-file-text2'></use></svg></label><input id='data-d0108daf-db0f-4cb9-bf33-e6d051f99b35' class='xr-var-data-in' type='checkbox'><label for='data-d0108daf-db0f-4cb9-bf33-e6d051f99b35' title='Show/Hide data repr'><svg class='icon xr-icon-database'><use xlink:href='#icon-database'></use></svg></label><div class='xr-var-attrs'><dl class='xr-attrs'></dl></div><div class='xr-var-data'><pre>array([1, 1, 1])</pre></div></li><li class='xr-var-item'><div class='xr-var-name'><span class='xr-has-index'>x</span></div><div class='xr-var-dims'>(x)</div><div class='xr-var-dtype'>float64</div><div class='xr-var-preview xr-preview'>-6.466e+05 ... -6.125e+05</div><input id='attrs-01c74f91-6dc7-477d-a4ad-3db2ef318d6b' class='xr-var-attrs-in' type='checkbox' disabled><label for='attrs-01c74f91-6dc7-477d-a4ad-3db2ef318d6b' title='Show/Hide attributes'><svg class='icon xr-icon-file-text2'><use xlink:href='#icon-file-text2'></use></svg></label><input id='data-5d8a82f8-4c67-4717-961f-f145bc45fa8d' class='xr-var-data-in' type='checkbox'><label for='data-5d8a82f8-4c67-4717-961f-f145bc45fa8d' title='Show/Hide data repr'><svg class='icon xr-icon-database'><use xlink:href='#icon-database'></use></svg></label><div class='xr-var-attrs'><dl class='xr-attrs'></dl></div><div class='xr-var-data'><pre>array([-646551.016922, -646319.360563, -646087.704205, -645856.047847,\n",
       "       -645624.391489, -645392.73513 , -645161.078772, -644929.422414,\n",
       "       -644697.766056, -644466.109697, -644234.453339, -644002.796981,\n",
       "       -643771.140623, -643539.484264, -643307.827906, -643076.171548,\n",
       "       -642844.51519 , -642612.858831, -642381.202473, -642149.546115,\n",
       "       -641917.889757, -641686.233398, -641454.57704 , -641222.920682,\n",
       "       -640991.264324, -640759.607965, -640527.951607, -640296.295249,\n",
       "       -640064.63889 , -639832.982532, -639601.326174, -639369.669816,\n",
       "       -639138.013457, -638906.357099, -638674.700741, -638443.044383,\n",
       "       -638211.388024, -637979.731666, -637748.075308, -637516.41895 ,\n",
       "       -637284.762591, -637053.106233, -636821.449875, -636589.793517,\n",
       "       -636358.137158, -636126.4808  , -635894.824442, -635663.168084,\n",
       "       -635431.511725, -635199.855367, -634968.199009, -634736.54265 ,\n",
       "       -634504.886292, -634273.229934, -634041.573576, -633809.917217,\n",
       "       -633578.260859, -633346.604501, -633114.948143, -632883.291784,\n",
       "       -632651.635426, -632419.979068, -632188.32271 , -631956.666351,\n",
       "       -631725.009993, -631493.353635, -631261.697277, -631030.040918,\n",
       "       -630798.38456 , -630566.728202, -630335.071844, -630103.415485,\n",
       "       -629871.759127, -629640.102769, -629408.446411, -629176.790052,\n",
       "       -628945.133694, -628713.477336, -628481.820977, -628250.164619,\n",
       "       -628018.508261, -627786.851903, -627555.195544, -627323.539186,\n",
       "       -627091.882828, -626860.22647 , -626628.570111, -626396.913753,\n",
       "       -626165.257395, -625933.601037, -625701.944678, -625470.28832 ,\n",
       "       -625238.631962, -625006.975604, -624775.319245, -624543.662887,\n",
       "       -624312.006529, -624080.350171, -623848.693812, -623617.037454,\n",
       "       -623385.381096, -623153.724737, -622922.068379, -622690.412021,\n",
       "       -622458.755663, -622227.099304, -621995.442946, -621763.786588,\n",
       "       -621532.13023 , -621300.473871, -621068.817513, -620837.161155,\n",
       "       -620605.504797, -620373.848438, -620142.19208 , -619910.535722,\n",
       "       -619678.879364, -619447.223005, -619215.566647, -618983.910289,\n",
       "       -618752.253931, -618520.597572, -618288.941214, -618057.284856,\n",
       "       -617825.628498, -617593.972139, -617362.315781, -617130.659423,\n",
       "       -616899.003064, -616667.346706, -616435.690348, -616204.03399 ,\n",
       "       -615972.377631, -615740.721273, -615509.064915, -615277.408557,\n",
       "       -615045.752198, -614814.09584 , -614582.439482, -614350.783124,\n",
       "       -614119.126765, -613887.470407, -613655.814049, -613424.157691,\n",
       "       -613192.501332, -612960.844974, -612729.188616, -612497.532258])</pre></div></li><li class='xr-var-item'><div class='xr-var-name'><span class='xr-has-index'>y</span></div><div class='xr-var-dims'>(y)</div><div class='xr-var-dtype'>float64</div><div class='xr-var-preview xr-preview'>-1.366e+06 ... -1.327e+06</div><input id='attrs-b6c5d43d-be00-432c-8f40-30a9f3a24afa' class='xr-var-attrs-in' type='checkbox' disabled><label for='attrs-b6c5d43d-be00-432c-8f40-30a9f3a24afa' title='Show/Hide attributes'><svg class='icon xr-icon-file-text2'><use xlink:href='#icon-file-text2'></use></svg></label><input id='data-8c063f11-2542-4918-ae02-e93db7dd6df3' class='xr-var-data-in' type='checkbox'><label for='data-8c063f11-2542-4918-ae02-e93db7dd6df3' title='Show/Hide data repr'><svg class='icon xr-icon-database'><use xlink:href='#icon-database'></use></svg></label><div class='xr-var-attrs'><dl class='xr-attrs'></dl></div><div class='xr-var-data'><pre>array([-1365614.231943, -1365382.575584, -1365150.919226, -1364919.262868,\n",
       "       -1364687.606509, -1364455.950151, -1364224.293793, -1363992.637435,\n",
       "       -1363760.981076, -1363529.324718, -1363297.66836 , -1363066.012002,\n",
       "       -1362834.355643, -1362602.699285, -1362371.042927, -1362139.386569,\n",
       "       -1361907.73021 , -1361676.073852, -1361444.417494, -1361212.761136,\n",
       "       -1360981.104777, -1360749.448419, -1360517.792061, -1360286.135703,\n",
       "       -1360054.479344, -1359822.822986, -1359591.166628, -1359359.51027 ,\n",
       "       -1359127.853911, -1358896.197553, -1358664.541195, -1358432.884836,\n",
       "       -1358201.228478, -1357969.57212 , -1357737.915762, -1357506.259403,\n",
       "       -1357274.603045, -1357042.946687, -1356811.290329, -1356579.63397 ,\n",
       "       -1356347.977612, -1356116.321254, -1355884.664896, -1355653.008537,\n",
       "       -1355421.352179, -1355189.695821, -1354958.039463, -1354726.383104,\n",
       "       -1354494.726746, -1354263.070388, -1354031.41403 , -1353799.757671,\n",
       "       -1353568.101313, -1353336.444955, -1353104.788596, -1352873.132238,\n",
       "       -1352641.47588 , -1352409.819522, -1352178.163163, -1351946.506805,\n",
       "       -1351714.850447, -1351483.194089, -1351251.53773 , -1351019.881372,\n",
       "       -1350788.225014, -1350556.568656, -1350324.912297, -1350093.255939,\n",
       "       -1349861.599581, -1349629.943223, -1349398.286864, -1349166.630506,\n",
       "       -1348934.974148, -1348703.31779 , -1348471.661431, -1348240.005073,\n",
       "       -1348008.348715, -1347776.692357, -1347545.035998, -1347313.37964 ,\n",
       "       -1347081.723282, -1346850.066923, -1346618.410565, -1346386.754207,\n",
       "       -1346155.097849, -1345923.44149 , -1345691.785132, -1345460.128774,\n",
       "       -1345228.472416, -1344996.816057, -1344765.159699, -1344533.503341,\n",
       "       -1344301.846983, -1344070.190624, -1343838.534266, -1343606.877908,\n",
       "       -1343375.22155 , -1343143.565191, -1342911.908833, -1342680.252475,\n",
       "       -1342448.596117, -1342216.939758, -1341985.2834  , -1341753.627042,\n",
       "       -1341521.970683, -1341290.314325, -1341058.657967, -1340827.001609,\n",
       "       -1340595.34525 , -1340363.688892, -1340132.032534, -1339900.376176,\n",
       "       -1339668.719817, -1339437.063459, -1339205.407101, -1338973.750743,\n",
       "       -1338742.094384, -1338510.438026, -1338278.781668, -1338047.12531 ,\n",
       "       -1337815.468951, -1337583.812593, -1337352.156235, -1337120.499877,\n",
       "       -1336888.843518, -1336657.18716 , -1336425.530802, -1336193.874444,\n",
       "       -1335962.218085, -1335730.561727, -1335498.905369, -1335267.24901 ,\n",
       "       -1335035.592652, -1334803.936294, -1334572.279936, -1334340.623577,\n",
       "       -1334108.967219, -1333877.310861, -1333645.654503, -1333413.998144,\n",
       "       -1333182.341786, -1332950.685428, -1332719.02907 , -1332487.372711,\n",
       "       -1332255.716353, -1332024.059995, -1331792.403637, -1331560.747278,\n",
       "       -1331329.09092 , -1331097.434562, -1330865.778204, -1330634.121845,\n",
       "       -1330402.465487, -1330170.809129, -1329939.15277 , -1329707.496412,\n",
       "       -1329475.840054, -1329244.183696, -1329012.527337, -1328780.870979,\n",
       "       -1328549.214621, -1328317.558263, -1328085.901904, -1327854.245546,\n",
       "       -1327622.589188, -1327390.93283 , -1327159.276471, -1326927.620113,\n",
       "       -1326695.963755])</pre></div></li><li class='xr-var-item'><div class='xr-var-name'><span>spatial_ref</span></div><div class='xr-var-dims'>()</div><div class='xr-var-dtype'>int32</div><div class='xr-var-preview xr-preview'>0</div><input id='attrs-f94b1c37-f658-47ea-aa6a-fbe6efca98ad' class='xr-var-attrs-in' type='checkbox' ><label for='attrs-f94b1c37-f658-47ea-aa6a-fbe6efca98ad' title='Show/Hide attributes'><svg class='icon xr-icon-file-text2'><use xlink:href='#icon-file-text2'></use></svg></label><input id='data-5f2a3f0e-f645-47c5-90c2-ec962bbf78dc' class='xr-var-data-in' type='checkbox'><label for='data-5f2a3f0e-f645-47c5-90c2-ec962bbf78dc' title='Show/Hide data repr'><svg class='icon xr-icon-database'><use xlink:href='#icon-database'></use></svg></label><div class='xr-var-attrs'><dl class='xr-attrs'><dt><span>crs_wkt :</span></dt><dd>PROJCS[&quot;unknown&quot;,GEOGCS[&quot;unknown&quot;,DATUM[&quot;Unknown based on Normal Sphere (r=6370997) ellipsoid&quot;,SPHEROID[&quot;Normal Sphere (r=6370997)&quot;,6370997,0]],PRIMEM[&quot;Greenwich&quot;,0],UNIT[&quot;degree&quot;,0.0174532925199433,AUTHORITY[&quot;EPSG&quot;,&quot;9122&quot;]]],PROJECTION[&quot;Lambert_Azimuthal_Equal_Area&quot;],PARAMETER[&quot;latitude_of_center&quot;,45],PARAMETER[&quot;longitude_of_center&quot;,-100],PARAMETER[&quot;false_easting&quot;,0],PARAMETER[&quot;false_northing&quot;,0],UNIT[&quot;metre&quot;,1],AXIS[&quot;Easting&quot;,EAST],AXIS[&quot;Northing&quot;,NORTH]]</dd><dt><span>spatial_ref :</span></dt><dd>PROJCS[&quot;unknown&quot;,GEOGCS[&quot;unknown&quot;,DATUM[&quot;Unknown based on Normal Sphere (r=6370997) ellipsoid&quot;,SPHEROID[&quot;Normal Sphere (r=6370997)&quot;,6370997,0]],PRIMEM[&quot;Greenwich&quot;,0],UNIT[&quot;degree&quot;,0.0174532925199433,AUTHORITY[&quot;EPSG&quot;,&quot;9122&quot;]]],PROJECTION[&quot;Lambert_Azimuthal_Equal_Area&quot;],PARAMETER[&quot;latitude_of_center&quot;,45],PARAMETER[&quot;longitude_of_center&quot;,-100],PARAMETER[&quot;false_easting&quot;,0],PARAMETER[&quot;false_northing&quot;,0],UNIT[&quot;metre&quot;,1],AXIS[&quot;Easting&quot;,EAST],AXIS[&quot;Northing&quot;,NORTH]]</dd><dt><span>GeoTransform :</span></dt><dd>-646666.8451008849 231.65635825996287 0.0 -1365730.0601216587 0.0 231.65635825996287</dd></dl></div><div class='xr-var-data'><pre>array(0)</pre></div></li></ul></div></li><li class='xr-section-item'><input id='section-f44b07f9-ea57-4b11-954b-602cfbe8984d' class='xr-section-summary-in' type='checkbox'  ><label for='section-f44b07f9-ea57-4b11-954b-602cfbe8984d' class='xr-section-summary' >Indexes: <span>(3)</span></label><div class='xr-section-inline-details'></div><div class='xr-section-details'><ul class='xr-var-list'><li class='xr-var-item'><div class='xr-index-name'><div>band</div></div><div class='xr-index-preview'>PandasIndex</div><div></div><input id='index-fb44b6e5-1930-47b8-bc0c-d031511fd004' class='xr-index-data-in' type='checkbox'/><label for='index-fb44b6e5-1930-47b8-bc0c-d031511fd004' title='Show/Hide index repr'><svg class='icon xr-icon-database'><use xlink:href='#icon-database'></use></svg></label><div class='xr-index-data'><pre>PandasIndex(Int64Index([1, 1, 1], dtype=&#x27;int64&#x27;, name=&#x27;band&#x27;))</pre></div></li><li class='xr-var-item'><div class='xr-index-name'><div>x</div></div><div class='xr-index-preview'>PandasIndex</div><div></div><input id='index-93a8f7c1-ecc2-46b2-b443-95db36631981' class='xr-index-data-in' type='checkbox'/><label for='index-93a8f7c1-ecc2-46b2-b443-95db36631981' title='Show/Hide index repr'><svg class='icon xr-icon-database'><use xlink:href='#icon-database'></use></svg></label><div class='xr-index-data'><pre>PandasIndex(Float64Index([-646551.0169217549,  -646319.360563495,  -646087.704205235,\n",
       "               -645856.047846975, -645624.3914887151, -645392.7351304551,\n",
       "              -645161.0787721951, -644929.4224139352, -644697.7660556752,\n",
       "              -644466.1096974153,\n",
       "              ...\n",
       "                -614582.43948188, -614350.7831236201, -614119.1267653601,\n",
       "              -613887.4704071002, -613655.8140488402, -613424.1576905802,\n",
       "              -613192.5013323203, -612960.8449740603, -612729.1886158003,\n",
       "              -612497.5322575404],\n",
       "             dtype=&#x27;float64&#x27;, name=&#x27;x&#x27;, length=148))</pre></div></li><li class='xr-var-item'><div class='xr-index-name'><div>y</div></div><div class='xr-index-preview'>PandasIndex</div><div></div><input id='index-ec16437d-3eb6-4fe3-82e8-463694083efa' class='xr-index-data-in' type='checkbox'/><label for='index-ec16437d-3eb6-4fe3-82e8-463694083efa' title='Show/Hide index repr'><svg class='icon xr-icon-database'><use xlink:href='#icon-database'></use></svg></label><div class='xr-index-data'><pre>PandasIndex(Float64Index([-1365614.2319425289,  -1365382.575584269,  -1365150.919226009,\n",
       "               -1364919.262867749,  -1364687.606509489,  -1364455.950151229,\n",
       "               -1364224.293792969, -1363992.6374347091, -1363760.9810764492,\n",
       "              -1363529.3247181892,\n",
       "              ...\n",
       "              -1328780.8709791948, -1328549.2146209348, -1328317.5582626748,\n",
       "              -1328085.9019044149,  -1327854.245546155,  -1327622.589187895,\n",
       "               -1327390.932829635,  -1327159.276471375,  -1326927.620113115,\n",
       "               -1326695.963754855],\n",
       "             dtype=&#x27;float64&#x27;, name=&#x27;y&#x27;, length=169))</pre></div></li></ul></div></li><li class='xr-section-item'><input id='section-9119e10b-a63e-48ac-9e59-3ed6e51145ac' class='xr-section-summary-in' type='checkbox'  checked><label for='section-9119e10b-a63e-48ac-9e59-3ed6e51145ac' class='xr-section-summary' >Attributes: <span>(8)</span></label><div class='xr-section-inline-details'></div><div class='xr-section-details'><dl class='xr-attrs'><dt><span>AREA_OR_POINT :</span></dt><dd>Area</dd><dt><span>long_name :</span></dt><dd>MODIS NDVI Data smoothed and gap-filled for conterminous US</dd><dt><span>standard_name :</span></dt><dd>normalized_difference_vegetation_index</dd><dt><span>units :</span></dt><dd>1</dd><dt><span>_ChunkSizes :</span></dt><dd>[1, 1719, 2438]</dd><dt><span>_FillValue :</span></dt><dd>-1</dd><dt><span>scale_factor :</span></dt><dd>0.01</dd><dt><span>add_offset :</span></dt><dd>0.0</dd></dl></div></li></ul></div></div>"
      ],
      "text/plain": [
       "<xarray.DataArray (band: 3, y: 169, x: 148)>\n",
       "array([[[-1, -1, -1, ..., -1, -1, -1],\n",
       "        [-1, -1, -1, ..., -1, -1, -1],\n",
       "        [-1, -1, -1, ..., -1, -1, -1],\n",
       "        ...,\n",
       "        [-1, -1, -1, ..., -1, -1, -1],\n",
       "        [-1, -1, -1, ..., -1, -1, -1],\n",
       "        [-1, -1, -1, ..., -1, -1, -1]],\n",
       "\n",
       "       [[-1, -1, -1, ..., -1, -1, -1],\n",
       "        [-1, -1, -1, ..., -1, -1, -1],\n",
       "        [-1, -1, -1, ..., -1, -1, -1],\n",
       "        ...,\n",
       "        [-1, -1, -1, ..., -1, -1, -1],\n",
       "        [-1, -1, -1, ..., -1, -1, -1],\n",
       "        [-1, -1, -1, ..., -1, -1, -1]],\n",
       "\n",
       "       [[-1, -1, -1, ..., -1, -1, -1],\n",
       "        [-1, -1, -1, ..., -1, -1, -1],\n",
       "        [-1, -1, -1, ..., -1, -1, -1],\n",
       "        ...,\n",
       "        [-1, -1, -1, ..., -1, -1, -1],\n",
       "        [-1, -1, -1, ..., -1, -1, -1],\n",
       "        [-1, -1, -1, ..., -1, -1, -1]]], dtype=int8)\n",
       "Coordinates:\n",
       "  * band         (band) int32 1 1 1\n",
       "  * x            (x) float64 -6.466e+05 -6.463e+05 ... -6.127e+05 -6.125e+05\n",
       "  * y            (y) float64 -1.366e+06 -1.365e+06 ... -1.327e+06 -1.327e+06\n",
       "    spatial_ref  int32 0\n",
       "Attributes:\n",
       "    AREA_OR_POINT:  Area\n",
       "    long_name:      MODIS NDVI Data smoothed and gap-filled for conterminous US\n",
       "    standard_name:  normalized_difference_vegetation_index\n",
       "    units:          1\n",
       "    _ChunkSizes:    [1, 1719, 2438]\n",
       "    _FillValue:     -1\n",
       "    scale_factor:   0.01\n",
       "    add_offset:     0.0"
      ]
     },
     "execution_count": 41,
     "metadata": {},
     "output_type": "execute_result"
    }
   ],
   "source": [
    "rgb_arrays[0]"
   ]
  },
  {
   "cell_type": "code",
   "execution_count": 42,
   "id": "983f4820",
   "metadata": {},
   "outputs": [],
   "source": [
    "subset_layers_rgb = xr.concat(rgb_arrays, dim = \"layer\")"
   ]
  },
  {
   "cell_type": "code",
   "execution_count": 46,
   "id": "3ed6a361",
   "metadata": {},
   "outputs": [
    {
     "name": "stdout",
     "output_type": "stream",
     "text": [
      "<xarray.DataArray ()>\n",
      "array(-1, dtype=int8)\n",
      "Coordinates:\n",
      "    spatial_ref  int32 0\n",
      "<xarray.DataArray ()>\n",
      "array(38, dtype=int8)\n",
      "Coordinates:\n",
      "    spatial_ref  int32 0\n"
     ]
    }
   ],
   "source": [
    "print(subset_layers_rgb[0].min())\n",
    "print(subset_layers_rgb[0].max())"
   ]
  }
 ],
 "metadata": {
  "kernelspec": {
   "display_name": "Python 3 (ipykernel)",
   "language": "python",
   "name": "python3"
  },
  "language_info": {
   "codemirror_mode": {
    "name": "ipython",
    "version": 3
   },
   "file_extension": ".py",
   "mimetype": "text/x-python",
   "name": "python",
   "nbconvert_exporter": "python",
   "pygments_lexer": "ipython3",
   "version": "3.10.9"
  }
 },
 "nbformat": 4,
 "nbformat_minor": 5
}
