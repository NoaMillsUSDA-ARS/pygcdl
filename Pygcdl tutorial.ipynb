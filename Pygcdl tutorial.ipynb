{
 "cells": [
  {
   "cell_type": "markdown",
   "id": "167f7d6b",
   "metadata": {},
   "source": [
    "# Python Package for USDA-ARS SCINet GeoCDL"
   ]
  },
  {
   "cell_type": "markdown",
   "id": "dc0826c2",
   "metadata": {},
   "source": [
    "## Overview\n",
    "This tutorial covers the python package `pygcdl` for the SCINet Geospatial Common \n",
    "Data Library (GeoCDL), a community project from the \n",
    "[Geospatial Research Working Group](https://scinet.usda.gov/working-groups/geospatial) \n",
    "to reduce the time and effort to access commonly used geospatial datasets. This tutorial is based on the vignette for the R counterpart of pygcdl, rgeocdl. We have\n",
    "collected several large gridded data products to store on Ceres and created a \n",
    "REST API for SCINet users to request the spatiotemporal subsets of those data \n",
    "that they need. The geospatial processing to create those subsets executes on \n",
    "Ceres and a service node has been setup to serve the API. \n",
    "\n",
    "This python package is a user-friendly interface to pass along user requests to the \n",
    "core GeoCDL API from the compute nodes. That is, the python package does not perform \n",
    "the geospatial processing itself. A major benefit of using this python package is that \n",
    "it was designed to integrate into a user's geospatial data processing workflow in \n",
    "R. For example, a user storing their study area boundary definition as a `geopandas.GeoDataFrame` \n",
    "object can pass along that object to this package's functions and the package will\n",
    "do the necessary formatting of the data to make it compatible with GeoCDL. \n",
    "\n",
    "The workflows we will cover include uploading a shapefile of an LTAR site, requesting data from two datasets clipped to the boundary of the LTAR site with equivalent resolutions and CRSs, and visualizing the resulting \n",
    "maps. We also show how to extract point level information from a gridded layer.\n",
    "\n",
    "This tutorial assumes you are running this notebook in JupyterLab on \n",
    "Ceres. The easiest way to do that is with \n",
    "[Open OnDemand](http://ceres-ood.scinet.usda.gov/). As of this writing, the GeoCDL \n",
    "is only available on Ceres and not Atlas. \n",
    "\n",
    "If you have any questions, problems, or requests related to the python interface, please \n",
    "use the issue tracker on our GitHub repository: \n",
    "[https://github.com/USDA-SCINet/rgeocdl](https://github.com/USDA-SCINet/pygcdl). "
   ]
  },
  {
   "cell_type": "markdown",
   "id": "19763f61",
   "metadata": {},
   "source": [
    "## Nomenclature\n",
    "\n",
    "* <b>GeoCDL:</b> Geospatial Common Data Library, a collection of commonly used raster \n",
    "  datasets accessible from an API running on SCINet's Ceres cluster\n",
    "* <b>Raster:</b> A geospatial datatype where data is stored as a grid of regularly sized pixels. Geospatial rasters contain geospatial metadata, which maps each pixel of the raster to a geospatial location on the Earth's surface. Examples of geospatial raster file types include: geotiff (.tif), and netCDF (.nc).\n",
    "* <b>Vector:</b> A geospatial datatype where data is stored as a collection of points, lines, or polygons. Each coordinate maps to a location on Earth's surface. Examples of geospatial vector file types include: geojson (.geojson), and shapefiles (.shp). \n",
    "* <b>CRS:</b> Coordinate Reference System, also known as a spatial reference system. A\n",
    "  system for defining geospatial coordinates."
   ]
  },
  {
   "cell_type": "markdown",
   "id": "6060e13a",
   "metadata": {},
   "source": [
    "## Data Details\n",
    "\n",
    "###### Dataset: MODIS NDVI\n",
    "* Link: [https://doi.org/10.3334/ORNLDAAC/1299](https://doi.org/10.3334/ORNLDAAC/1299)\n",
    "* Details: This data set provides Moderate Resolution Imaging Spectroradiometer \n",
    "  (MODIS) normalized difference vegetation index (NDVI) data, smoothed and gap-filled, \n",
    "  for the conterminous US for the period 2000-01-01 through 2015-12-31. The data \n",
    "  were generated using the NASA Stennis Time Series Product Tool (TSPT) to generate \n",
    "  NDVI data streams from the Terra satellite (MODIS MOD13Q1 product) and Aqua \n",
    "  satellite (MODIS MYD13Q1 product) instruments. TSPT produces NDVI data that \n",
    "  are less affected by clouds and bad pixels.\n",
    "\n",
    "###### Dataset: PRISM\n",
    "* Link: [https://prism.oregonstate.edu/](https://prism.oregonstate.edu/)\n",
    "* Details: The PRISM Climate Group gathers climate observations from a \n",
    "  wide range of monitoring networks, applies sophisticated quality control \n",
    "  measures, and develops spatial climate datasets to reveal short- and long-term \n",
    "  climate patterns. The resulting datasets incorporate a variety of modeling \n",
    "  techniques and are available at multiple spatial/temporal resolutions, covering \n",
    "  the period from 1895 to the present.\n"
   ]
  },
  {
   "cell_type": "markdown",
   "id": "08f8ae56",
   "metadata": {},
   "source": [
    "## Primary Libraries\n",
    "\n",
    "| Name | Description | Link |\n",
    "|:--|:--|:--|\n",
    "| pygcdl | Python interface for SCINet GeoCDL API | https://github.com/USDA-SCINet/pygcdl |\n",
    "| geopandas | Geospatial vector data for python | https://geopandas.org/en/stable/|\n",
    "| requests | \n"
   ]
  },
  {
   "cell_type": "markdown",
   "id": "bbf36866",
   "metadata": {},
   "source": [
    "### Tutorial Steps:\n",
    "0. Import Libraries\n",
    "1. Specify area and dates of interest \n",
    "2. Select datasets and their variables\n",
    "3. Download the data\n",
    "4. Visualize the results\n"
   ]
  },
  {
   "cell_type": "markdown",
   "id": "d59a6674",
   "metadata": {},
   "source": [
    "#### Part 0: Import Libraries"
   ]
  },
  {
   "cell_type": "code",
   "execution_count": 1,
   "id": "9f1842bf",
   "metadata": {},
   "outputs": [],
   "source": [
    "# Import the necessary packages\n",
    "\n",
    "import pygcdl\n",
    "import geopandas as gpd\n",
    "import pandas as pd\n",
    "import numpy as np\n",
    "from pathlib import Path\n",
    "import requests as r"
   ]
  },
  {
   "cell_type": "code",
   "execution_count": 2,
   "id": "0680dbd8",
   "metadata": {},
   "outputs": [],
   "source": [
    "# Create the pygcdl object in order to interact with the pygcdl package\n",
    "pygcdl_obj = pygcdl.PyGeoCDL()"
   ]
  },
  {
   "cell_type": "markdown",
   "id": "200d063c",
   "metadata": {},
   "source": [
    "#### Part 1: Specify area and dates of interest "
   ]
  },
  {
   "cell_type": "markdown",
   "id": "7997c00b",
   "metadata": {},
   "source": [
    "Here, we specify the spatial extend of our requests. We can request either polygon-based or point-based subsets. When we request a subset, we can specify the spatial extent in one of these three ways:\n",
    "\n",
    "- <b>GUID: </b> Users can use the `upload_geometry()` function to upload a file or geopandas GeoDataFrame object, receive a Geometry Upload Identifier (GUID), and use that GUID for subsequent data requests.\n",
    "- <b>Clip: </b> Users can specify the coordinates of a bounding box (polygon data only).\n",
    "- <b>GeoDataFrame: </b> Users can build a geopandas.GeoDataFrame object and use it in requests directly, without uploading it in advance.\n",
    "\n",
    "For this tutorial, we will upload a shapefile containing polygon data that represents the Jornada Experimental Range in southern New Mexico."
   ]
  },
  {
   "cell_type": "code",
   "execution_count": 3,
   "id": "aebb6f4f",
   "metadata": {},
   "outputs": [],
   "source": [
    "# First, download the shapefile from AgCROS\n",
    "url = \"https://services1.arcgis.com/SyUSN23vOoYdfLC8/arcgis/rest/services/LTAR_Base/FeatureServer/1/query?where=acronym='JER'&f=pgeojson\"\n",
    "response = r.get(url)\n",
    "filename = \"jer_bounds_sf.geojson\"\n",
    "with open(filename, mode=\"wb\") as file:\n",
    "    file.write(response.content) # save file locally"
   ]
  },
  {
   "cell_type": "markdown",
   "id": "0f82c287",
   "metadata": {},
   "source": [
    "We wish to download data in the CRS EPSG:32613, so we load our file into geopandas, transform the crs, and overwrite the file. The EPSG:32613 CRS is a projected CRS that covers New Mexico in its area of use. You can learn more about this crs [here](https://epsg.io/32613)."
   ]
  },
  {
   "cell_type": "code",
   "execution_count": 4,
   "id": "594f5d1a",
   "metadata": {},
   "outputs": [],
   "source": [
    "bounds = gpd.read_file(filename) # load file into geopandas\n",
    "bounds = bounds.to_crs(\"EPSG:32613\") # transform geopandas dataframe to desired CRS\n",
    "bounds.to_file(filename) # overwrite file location with transformed data"
   ]
  },
  {
   "cell_type": "code",
   "execution_count": 5,
   "id": "7865ca96",
   "metadata": {
    "scrolled": true
   },
   "outputs": [
    {
     "data": {
      "text/plain": [
       "<Axes: >"
      ]
     },
     "execution_count": 5,
     "metadata": {},
     "output_type": "execute_result"
    },
    {
     "data": {
      "image/png": "[encoded data removed]",
      "text/plain": [
       "<Figure size 640x480 with 1 Axes>"
      ]
     },
     "metadata": {},
     "output_type": "display_data"
    }
   ],
   "source": [
    "# Visualize downloaded boundary\n",
    "bounds.boundary.plot()"
   ]
  },
  {
   "cell_type": "markdown",
   "id": "000e9850",
   "metadata": {},
   "source": [
    "We can see from the plotted map that the site is an irregular shape. For cases like this where the geometry is defined by many points, it is easiest to provide GeoCDL with a file containing the geometry definition, instead of uploading clipping coordinates. We can upload this geometry to GeoCDL using the `upload_geometry` function which returns a unique geometry upload identifier (GUID) that we will use later in our subset request. This stand-alone upload step is optional, but recommended if you are likely to submit multiple subset requests with the same geometry so that it is uploaded just once. You could alternatively use the geopandas GeoDataFrame object directly in requests, but if we upload the geometry file, then we can re-use the GUID.\n",
    "\n",
    "Here, we upload our file by calling `upload_geometry()` on our `pygcdl_obj` object."
   ]
  },
  {
   "cell_type": "code",
   "execution_count": 6,
   "id": "e170c9dc",
   "metadata": {},
   "outputs": [
    {
     "name": "stdout",
     "output_type": "stream",
     "text": [
      "ec75e5e9-eb85-4cee-b0dc-ab59fa78377a\n"
     ]
    }
   ],
   "source": [
    "guid = pygcdl_obj.upload_geometry(bounds)\n",
    "print(guid)"
   ]
  },
  {
   "cell_type": "markdown",
   "id": "3d90ed70",
   "metadata": {},
   "source": [
    "To finish the spatial component of our subset request, we will define our target spatial resolution and a resampling method. By indicating a target spatial resolution along with our geometry, we are telling GeoCDL that we want a spatially-harmonized 'datacube', which means that each requested data layer has the same CRS, spatial resolution, and spatial extent. \n",
    "\n",
    "Unless we specify otherwise, the target CRS in this case is that of our geometry. Resampling is the process by which the GCDL calculates pixel values when the cell grid changes, like when we change the resolution or CRS. This calculation is performed by rasterio, and you can find the full list of reprojection methods [here](https://rasterio.readthedocs.io/en/stable/api/rasterio.enums.html#rasterio.enums.Resampling). The default resampling method is to take the nearest pixel. Here, we choose the \"bilinear\" method, which you can learn more about [here](https://gisgeography.com/bilinear-interpolation-resampling/).\n",
    "\n",
    "Our CRS, EPSG:32613, is in units of meters. Therefore, our spatial resolution is in units of meters. Here, we specify that we want each pixel to represent an area of 1000 by 1000 meters."
   ]
  },
  {
   "cell_type": "code",
   "execution_count": 7,
   "id": "0c33ee94",
   "metadata": {},
   "outputs": [],
   "source": [
    "spat_res = 1000 # in units of meters\n",
    "resample_method = \"bilinear\""
   ]
  },
  {
   "cell_type": "markdown",
   "id": "e455a40a",
   "metadata": {},
   "source": [
    "Next, we specify our temporal data. The GeoCDL accepts multiple temporal range formats so that many different user \n",
    "needs can be met. In this example, we are interested in July-August 2008. One way to specify that is with the years and months together as `'2008-07:2008-08'` or separately as below. By specifying years and months, we are letting GeoCDL know that we are interested in monthly data. If we only specify years, then it will infer we want annual data and if we also specifies days, then it will infer we want daily data. However, users can also request a combination of temporal grains by specifying a 'grain method'. In this example, we are also interested in both annual and daily data available within July-August 2008, so we will indicate the 'any' grain method."
   ]
  },
  {
   "cell_type": "code",
   "execution_count": 8,
   "id": "ab2e0e66",
   "metadata": {},
   "outputs": [],
   "source": [
    "years = \"2008\"\n",
    "months = \"7:8\"\n",
    "grain_method = \"any\""
   ]
  },
  {
   "cell_type": "markdown",
   "id": "ced32c2c",
   "metadata": {},
   "source": [
    "#### Part 2: Select datasets and their variables\n"
   ]
  },
  {
   "cell_type": "markdown",
   "id": "d8d4013a",
   "metadata": {},
   "source": [
    "We can use the `list_datasets()` function to list all of the datasets that are available in the Geospatial Common Data Library."
   ]
  },
  {
   "cell_type": "code",
   "execution_count": 9,
   "id": "ba342a3c",
   "metadata": {
    "scrolled": true
   },
   "outputs": [
    {
     "data": {
      "text/plain": [
       "{'DaymetV4': 'Daymet Version 4',\n",
       " 'GTOPO30': 'Global 30 Arc-Second Elevation',\n",
       " 'MODIS_NDVI': 'MODIS NDVI Data, Smoothed and Gap-filled, for the Conterminous US: 2000-2015',\n",
       " 'NASS_CDL': 'NASS Cropland Data Layer',\n",
       " 'NLCD': 'National Land Cover Database',\n",
       " 'PRISM': 'PRISM',\n",
       " 'RAPV3': 'Rangeland Analysis Platform Version 3',\n",
       " 'SMAP-HB1km': 'SMAP HydroBlocks - 1 km',\n",
       " 'Soilgrids250mV2': 'SoilGrids — global gridded soil information',\n",
       " 'VIP': 'Vegetation Index and Phenology (VIP) Vegetation Indices Daily Global 0.05Deg CMG V004'}"
      ]
     },
     "execution_count": 9,
     "metadata": {},
     "output_type": "execute_result"
    }
   ],
   "source": [
    "pygcdl_obj.list_datasets()"
   ]
  },
  {
   "cell_type": "markdown",
   "id": "7760e1c0",
   "metadata": {},
   "source": [
    "We can use the `get_dataset_info()` function to learn more about one specific dataset."
   ]
  },
  {
   "cell_type": "code",
   "execution_count": 10,
   "id": "d43ee0aa",
   "metadata": {},
   "outputs": [
    {
     "data": {
      "text/plain": [
       "{'name': 'MODIS NDVI Data, Smoothed and Gap-filled, for the Conterminous US: 2000-2015',\n",
       " 'id': 'MODIS_NDVI',\n",
       " 'url': 'https://doi.org/10.3334/ORNLDAAC/1299',\n",
       " 'description': 'This data set provides Moderate Resolution Imaging Spectroradiometer (MODIS) normalized difference vegetation index (NDVI) data, smoothed and gap-filled, for the conterminous US for the period 2000-01-01 through 2015-12-31. The data were generated using the NASA Stennis Time Series Product Tool (TSPT) to generate NDVI data streams from the Terra satellite (MODIS MOD13Q1 product) and Aqua satellite (MODIS MYD13Q1 product) instruments. TSPT produces NDVI data that are less affected by clouds and bad pixels.',\n",
       " 'provider_name': 'ORNL DAAC',\n",
       " 'provider_url': 'https://daac.ornl.gov',\n",
       " 'grid_size': 250,\n",
       " 'grid_unit': 'meters',\n",
       " 'vars': {'NDVI': 'Normalized Difference Vegetation Index'},\n",
       " 'temporal_resolution': {'year': None, 'month': None, 'day': '8 days'},\n",
       " 'date_ranges': {'year': [None, None],\n",
       "  'month': [None, None],\n",
       "  'day': ['2000-01-01', '2015-12-31']},\n",
       " 'crs': {'name': 'unknown',\n",
       "  'epsg': None,\n",
       "  'proj4': '+proj=laea +lat_0=45 +lon_0=-100 +x_0=0 +y_0=0 +ellps=sphere +units=m +no_defs +type=crs',\n",
       "  'wkt': 'PROJCRS[\"unknown\",BASEGEOGCRS[\"unknown\",DATUM[\"Unknown based on Normal Sphere (r=6370997) ellipsoid\",ELLIPSOID[\"Normal Sphere (r=6370997)\",6370997,0,LENGTHUNIT[\"metre\",1,ID[\"EPSG\",9001]]]],PRIMEM[\"Greenwich\",0,ANGLEUNIT[\"degree\",0.0174532925199433],ID[\"EPSG\",8901]]],CONVERSION[\"unknown\",METHOD[\"Lambert Azimuthal Equal Area (Spherical)\",ID[\"EPSG\",1027]],PARAMETER[\"Latitude of natural origin\",45,ANGLEUNIT[\"degree\",0.0174532925199433],ID[\"EPSG\",8801]],PARAMETER[\"Longitude of natural origin\",-100,ANGLEUNIT[\"degree\",0.0174532925199433],ID[\"EPSG\",8802]],PARAMETER[\"False easting\",0,LENGTHUNIT[\"metre\",1],ID[\"EPSG\",8806]],PARAMETER[\"False northing\",0,LENGTHUNIT[\"metre\",1],ID[\"EPSG\",8807]]],CS[Cartesian,2],AXIS[\"(E)\",east,ORDER[1],LENGTHUNIT[\"metre\",1,ID[\"EPSG\",9001]]],AXIS[\"(N)\",north,ORDER[2],LENGTHUNIT[\"metre\",1,ID[\"EPSG\",9001]]]]',\n",
       "  'datum': 'Unknown based on Normal Sphere (r=6370997) ellipsoid',\n",
       "  'is_geographic': False,\n",
       "  'is_projected': True},\n",
       " 'notes': ''}"
      ]
     },
     "execution_count": 10,
     "metadata": {},
     "output_type": "execute_result"
    }
   ],
   "source": [
    "# Get information about the MODIS_NDVI dataset\n",
    "pygcdl_obj.get_dataset_info(\"MODIS_NDVI\")"
   ]
  },
  {
   "cell_type": "code",
   "execution_count": 11,
   "id": "c0442c7f",
   "metadata": {},
   "outputs": [
    {
     "data": {
      "text/plain": [
       "{'name': 'PRISM',\n",
       " 'id': 'PRISM',\n",
       " 'url': 'https://prism.oregonstate.edu/',\n",
       " 'description': 'The PRISM Climate Group gathers climate observations from a wide range of monitoring networks, applies sophisticated quality control measures, and develops spatial climate datasets to reveal short- and long-term climate patterns. The resulting datasets incorporate a variety of modeling techniques and are available at multiple spatial/temporal resolutions, covering the period from 1895 to the present.',\n",
       " 'provider_name': 'PRISM Climate Group, Oregon State University',\n",
       " 'provider_url': 'https://prism.oregonstate.edu/',\n",
       " 'grid_size': 0.041666666666666664,\n",
       " 'grid_unit': 'degrees',\n",
       " 'vars': {'ppt': 'total precipitation (rain+melted snow)',\n",
       "  'tmean': 'mean temperature (mean of tmin and tmax)',\n",
       "  'tmin': 'minimum temperature',\n",
       "  'tmax': 'maximum temperature',\n",
       "  'tdmean': 'mean dew point temperature',\n",
       "  'vpdmin': 'minimum vapor pressure deficit',\n",
       "  'vpdmax': 'maximum vapor pressure deficit'},\n",
       " 'temporal_resolution': {'year': '1 year', 'month': '1 month', 'day': '1 day'},\n",
       " 'date_ranges': {'year': [1895, 2020],\n",
       "  'month': ['1895-01', '2021-01'],\n",
       "  'day': ['1981-01-01', '2021-01-31']},\n",
       " 'crs': {'name': 'NAD83',\n",
       "  'epsg': 4269,\n",
       "  'proj4': '+proj=longlat +datum=NAD83 +no_defs +type=crs',\n",
       "  'wkt': 'GEOGCRS[\"NAD83\",DATUM[\"North American Datum 1983\",ELLIPSOID[\"GRS 1980\",6378137,298.257222101,LENGTHUNIT[\"metre\",1]]],PRIMEM[\"Greenwich\",0,ANGLEUNIT[\"degree\",0.0174532925199433]],CS[ellipsoidal,2],AXIS[\"geodetic latitude (Lat)\",north,ORDER[1],ANGLEUNIT[\"degree\",0.0174532925199433]],AXIS[\"geodetic longitude (Lon)\",east,ORDER[2],ANGLEUNIT[\"degree\",0.0174532925199433]],USAGE[SCOPE[\"Geodesy.\"],AREA[\"North America - onshore and offshore: Canada - Alberta; British Columbia; Manitoba; New Brunswick; Newfoundland and Labrador; Northwest Territories; Nova Scotia; Nunavut; Ontario; Prince Edward Island; Quebec; Saskatchewan; Yukon. Puerto Rico. United States (USA) - Alabama; Alaska; Arizona; Arkansas; California; Colorado; Connecticut; Delaware; Florida; Georgia; Hawaii; Idaho; Illinois; Indiana; Iowa; Kansas; Kentucky; Louisiana; Maine; Maryland; Massachusetts; Michigan; Minnesota; Mississippi; Missouri; Montana; Nebraska; Nevada; New Hampshire; New Jersey; New Mexico; New York; North Carolina; North Dakota; Ohio; Oklahoma; Oregon; Pennsylvania; Rhode Island; South Carolina; South Dakota; Tennessee; Texas; Utah; Vermont; Virginia; Washington; West Virginia; Wisconsin; Wyoming. US Virgin Islands. British Virgin Islands.\"],BBOX[14.92,167.65,86.45,-40.73]],ID[\"EPSG\",4269]]',\n",
       "  'datum': 'North American Datum 1983',\n",
       "  'is_geographic': True,\n",
       "  'is_projected': False},\n",
       " 'notes': ''}"
      ]
     },
     "execution_count": 11,
     "metadata": {},
     "output_type": "execute_result"
    }
   ],
   "source": [
    "# Get information about the PRISM dataset\n",
    "pygcdl_obj.get_dataset_info(\"PRISM\")"
   ]
  },
  {
   "cell_type": "markdown",
   "id": "1ecaed69",
   "metadata": {},
   "source": [
    "Next, we will specify the datasets and variables we wish to use with a pandas dataframe. Here we specify that we want the ppt variable from the PRISM dataset, and the NDVI variable from the MODIS_NDVI dataset. We can format our dataset and variable specifications as a pandas dataframe, a numpy array, a matrix, or a dict. Here, we format our specifications as a pandas dataframe."
   ]
  },
  {
   "cell_type": "code",
   "execution_count": 12,
   "id": "4828ff38",
   "metadata": {},
   "outputs": [
    {
     "name": "stdout",
     "output_type": "stream",
     "text": [
      "      dataset variable\n",
      "0       PRISM      ppt\n",
      "1  MODIS_NDVI     NDVI\n"
     ]
    }
   ],
   "source": [
    "dsvars = pd.DataFrame(\n",
    "    [[\"PRISM\", \"ppt\"], [\"MODIS_NDVI\", \"NDVI\"]], \n",
    "    columns=[\"dataset\", \"variable\"])\n",
    "print(dsvars)"
   ]
  },
  {
   "cell_type": "markdown",
   "id": "32697e50",
   "metadata": {},
   "source": [
    "#### Part 3: Download the data"
   ]
  },
  {
   "cell_type": "markdown",
   "id": "56462ad3",
   "metadata": {},
   "source": [
    "First, we create a directory where we would like our data to download to."
   ]
  },
  {
   "cell_type": "code",
   "execution_count": 13,
   "id": "40f40cab",
   "metadata": {},
   "outputs": [],
   "source": [
    "output_path = Path(\"output\")\n",
    "if not output_path.is_dir():\n",
    "    output_path.mkdir()"
   ]
  },
  {
   "cell_type": "markdown",
   "id": "f56771dd",
   "metadata": {},
   "source": [
    "Up until now, we have been primarily saving our request specifications as variables. We will now pass each of those variables to the GeoCDL and download our subset using the `download_polygon_subset` function. GeoCDL returns a zipped folder of results and `pygcdl` unzips it for you. `download_polygon_subset` returns the filenames in that folder. We have here two monthly PRISM layers, XX daily MODIS NDVI layers (every 8 days), plus a metadata file that lists metadata related to the geospatial datasets as well as the GeoCDL request itself. The raster layer files are GeoTIFFs with the dataset, variable, and date indicated in the  filename."
   ]
  },
  {
   "cell_type": "code",
   "execution_count": 16,
   "id": "f052baee",
   "metadata": {},
   "outputs": [
    {
     "name": "stdout",
     "output_type": "stream",
     "text": [
      "http://127.0.0.1:8000/subset_polygon?datasets=PRISM%3Appt%3BMODIS_NDVI%3ANDVI&geom_guid=ec75e5e9-eb85-4cee-b0dc-ab59fa78377a&resample_method=nearest&years=2008&months=7%3A8&grain_method=any&validate_method=strict&output_format=geotiff\n",
      "Written file:  output\\gcdl_subset_240430_094136_1.zip\n",
      "Files in downloaded zipfile:  ['metadata.json', 'PRISM_ppt_2008-07.tif', 'PRISM_ppt_2008-08.tif', 'MODIS_NDVI_NDVI_2008-07-07.tif', 'MODIS_NDVI_NDVI_2008-07-15.tif', 'MODIS_NDVI_NDVI_2008-07-23.tif', 'MODIS_NDVI_NDVI_2008-07-31.tif', 'MODIS_NDVI_NDVI_2008-08-08.tif', 'MODIS_NDVI_NDVI_2008-08-16.tif', 'MODIS_NDVI_NDVI_2008-08-24.tif']\n"
     ]
    }
   ],
   "source": [
    "output_files = pygcdl_obj.download_polygon_subset(\n",
    "    dsvars=dsvars, \n",
    "    years=years,\n",
    "    months=months,\n",
    "    grain_method=grain_method,\n",
    "    t_geom=guid,\n",
    "    dsn=output_path,\n",
    ")"
   ]
  },
  {
   "cell_type": "code",
   "execution_count": 17,
   "id": "150cbd67",
   "metadata": {},
   "outputs": [
    {
     "data": {
      "text/plain": [
       "['metadata.json',\n",
       " 'PRISM_ppt_2008-07.tif',\n",
       " 'PRISM_ppt_2008-08.tif',\n",
       " 'MODIS_NDVI_NDVI_2008-07-07.tif',\n",
       " 'MODIS_NDVI_NDVI_2008-07-15.tif',\n",
       " 'MODIS_NDVI_NDVI_2008-07-23.tif',\n",
       " 'MODIS_NDVI_NDVI_2008-07-31.tif',\n",
       " 'MODIS_NDVI_NDVI_2008-08-08.tif',\n",
       " 'MODIS_NDVI_NDVI_2008-08-16.tif',\n",
       " 'MODIS_NDVI_NDVI_2008-08-24.tif']"
      ]
     },
     "execution_count": 17,
     "metadata": {},
     "output_type": "execute_result"
    }
   ],
   "source": [
    "output_files"
   ]
  },
  {
   "cell_type": "markdown",
   "id": "3750c597",
   "metadata": {},
   "source": [
    "#### Part 4: Visualize the results"
   ]
  }
 ],
 "metadata": {
  "kernelspec": {
   "display_name": "Python 3 (ipykernel)",
   "language": "python",
   "name": "python3"
  },
  "language_info": {
   "codemirror_mode": {
    "name": "ipython",
    "version": 3
   },
   "file_extension": ".py",
   "mimetype": "text/x-python",
   "name": "python",
   "nbconvert_exporter": "python",
   "pygments_lexer": "ipython3",
   "version": "3.10.9"
  }
 },
 "nbformat": 4,
 "nbformat_minor": 5
}
